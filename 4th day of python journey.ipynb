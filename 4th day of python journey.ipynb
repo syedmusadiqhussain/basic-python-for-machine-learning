{
 "cells": [
  {
   "cell_type": "markdown",
   "id": "55276f88-d314-4000-a5aa-665f8fec10c0",
   "metadata": {},
   "source": [
    "# practice question Date.  16/2/2025"
   ]
  },
  {
   "cell_type": "code",
   "execution_count": 3,
   "id": "1d5ff57b-fc80-4038-bd90-a2b23194558b",
   "metadata": {},
   "outputs": [
    {
     "name": "stdin",
     "output_type": "stream",
     "text": [
      "Enter the number of items purchased:  1\n",
      "Enter the price of the item:  1\n"
     ]
    },
    {
     "name": "stdout",
     "output_type": "stream",
     "text": [
      "Subtotal: 1.0\n",
      "Discount: 0\n",
      "Total Bill: 1.0\n"
     ]
    }
   ],
   "source": [
    "num_items = int(input(\"Enter the number of items purchased: \"))\n",
    "total_price = 0\n",
    "for i in range(num_items):\n",
    "    price = float(input(\"Enter the price of the item: \"))\n",
    "    total_price += price  # Add the price to the total_price\n",
    "\n",
    "# Calculate discount based on total_price\n",
    "if total_price >= 100:\n",
    "    discount = 0.1 * total_price  # 10% discount\n",
    "elif 50 <= total_price < 100:\n",
    "    discount = 0.05 * total_price  # 5% discount\n",
    "else:\n",
    "    discount = 0  # No discount\n",
    "\n",
    "total_bill = total_price - discount  # Calculate the final bill\n",
    "\n",
    "# Print the results\n",
    "print(\"Subtotal:\", total_price)\n",
    "print(\"Discount:\", discount)\n",
    "print(\"Total Bill:\", total_bill)"
   ]
  },
  {
   "cell_type": "markdown",
   "id": "d2cc464c-8543-4db3-b78d-02de7c599e5e",
   "metadata": {},
   "source": [
    "# BREAK statment"
   ]
  },
  {
   "cell_type": "code",
   "execution_count": 5,
   "id": "677c9818-8107-49b5-8148-526a06143aa1",
   "metadata": {},
   "outputs": [
    {
     "name": "stdout",
     "output_type": "stream",
     "text": [
      "0\n",
      "1\n",
      "2\n"
     ]
    }
   ],
   "source": [
    "for i in range (5):\n",
    "    if i ==3:\n",
    "        break\n",
    "    print (i)"
   ]
  },
  {
   "cell_type": "markdown",
   "id": "ad772646-05fc-4062-99dc-797a8bdfe8c0",
   "metadata": {},
   "source": [
    "# Continous statment"
   ]
  },
  {
   "cell_type": "code",
   "execution_count": 101,
   "id": "c1954d67-d508-4d2f-a187-f9d91e075ec3",
   "metadata": {},
   "outputs": [
    {
     "name": "stdout",
     "output_type": "stream",
     "text": [
      "0\n",
      "1\n",
      "2\n",
      "4\n",
      "I am learning python\n"
     ]
    }
   ],
   "source": [
    "for i in range(5):\n",
    "    if i == 3:\n",
    "           continue\n",
    "    print(i)\n",
    "print(\"I am learning python\")"
   ]
  },
  {
   "cell_type": "code",
   "execution_count": 109,
   "id": "1c401103-822d-4265-8da4-090046192e45",
   "metadata": {},
   "outputs": [],
   "source": [
    "def my_fuction():\n",
    "    print(\"hellow i am musadiq\")"
   ]
  },
  {
   "cell_type": "code",
   "execution_count": 113,
   "id": "cfd26c49-e274-4c84-97be-7378f366c4b7",
   "metadata": {},
   "outputs": [
    {
     "name": "stdout",
     "output_type": "stream",
     "text": [
      "hellow i am musadiq\n"
     ]
    }
   ],
   "source": [
    "my_fuction()"
   ]
  },
  {
   "cell_type": "markdown",
   "id": "f4ab285b-89c2-4cfb-a049-c5166cadcbc5",
   "metadata": {},
   "source": [
    "# CALL FUNCTION"
   ]
  },
  {
   "cell_type": "markdown",
   "id": "6a6ec36a-42c0-4c71-8e82-6d61fd736e16",
   "metadata": {},
   "source": [
    "### bill payment method"
   ]
  },
  {
   "cell_type": "code",
   "execution_count": 14,
   "id": "be7d2733-81d1-48c4-9bb2-373ad292ff1c",
   "metadata": {},
   "outputs": [
    {
     "name": "stdin",
     "output_type": "stream",
     "text": [
      "Enter your name:  7\n",
      "Enter the number of times you want to calculate the bill:  1\n",
      "Enter the units of electricity you have consumed:  99999\n"
     ]
    },
    {
     "name": "stdout",
     "output_type": "stream",
     "text": [
      "Hello 7, the total amount of bill you need to pay is: 999990\n",
      "The last date of the bill payment is on next week Sunday.\n",
      "After the deadline, you need to pay Rs 1000 as a fine.\n",
      "Pay your bill soon.\n"
     ]
    }
   ],
   "source": [
    "def details_bill():\n",
    "    print(\"The last date of the bill payment is on next week Sunday.\")\n",
    "    print(\"After the deadline, you need to pay Rs 1000 as a fine.\")\n",
    "    print(\"Pay your bill soon.\")\n",
    "\n",
    "# Ask for the user's name\n",
    "user_name = input(\"Enter your name: \")\n",
    "\n",
    "# Ask the user how many times they want to run the loop\n",
    "num_iterations = int(input(\"Enter the number of times you want to calculate the bill: \"))\n",
    "\n",
    "for i in range(num_iterations):\n",
    "    a = int(input(\"Enter the units of electricity you have consumed: \"))  # Get electricity units\n",
    "    bill = a * 10  # Calculate the bill\n",
    "    print(f\"Hello {user_name}, the total amount of bill you need to pay is: {bill}\")  # Personalized output\n",
    "    details_bill()  # Call the function to display bill"
   ]
  },
  {
   "cell_type": "markdown",
   "id": "be9bb085-fb40-4a91-945b-6e8102c2ab00",
   "metadata": {},
   "source": [
    "# Arguments"
   ]
  },
  {
   "cell_type": "code",
   "execution_count": 137,
   "id": "ff407e17-cfab-45b3-9c14-e09da51d0bb1",
   "metadata": {},
   "outputs": [],
   "source": [
    "def check_even_odd(number):\n",
    "    if number % 2 == 0:\n",
    "        print(\"The number is even\")\n",
    "    else:\n",
    "        print(\"The number is odd\")"
   ]
  },
  {
   "cell_type": "code",
   "execution_count": 139,
   "id": "e868c0d2-27a2-4d04-a990-e37c0149bb08",
   "metadata": {},
   "outputs": [
    {
     "name": "stdout",
     "output_type": "stream",
     "text": [
      "The number is even\n"
     ]
    }
   ],
   "source": [
    "check_even_odd(240)"
   ]
  },
  {
   "cell_type": "markdown",
   "id": "5228e7c1-191c-41df-8ac1-d809a80287cd",
   "metadata": {},
   "source": [
    "## 2 Arguments"
   ]
  },
  {
   "cell_type": "code",
   "execution_count": 148,
   "id": "482db7cf-695b-414b-b57c-2a57d2c70b14",
   "metadata": {},
   "outputs": [],
   "source": [
    "def my_name(fname, iname):\n",
    "    print(f\"{fname} {iname}\")"
   ]
  },
  {
   "cell_type": "code",
   "execution_count": 150,
   "id": "fa5b5e61-9925-4002-9fe8-215caaf92bc5",
   "metadata": {},
   "outputs": [
    {
     "name": "stdout",
     "output_type": "stream",
     "text": [
      "syed musadiq\n"
     ]
    }
   ],
   "source": [
    "my_name(\"syed\", \"musadiq\")"
   ]
  },
  {
   "cell_type": "markdown",
   "id": "70345e4e-05e6-42ed-ba23-03fab6d18c33",
   "metadata": {},
   "source": [
    "# Practice Question"
   ]
  },
  {
   "cell_type": "code",
   "execution_count": 18,
   "id": "04a4b4cc-cbf0-4b67-bd39-0d59a715c95a",
   "metadata": {},
   "outputs": [
    {
     "name": "stdin",
     "output_type": "stream",
     "text": [
      "Enter the student's name:  Syed\n"
     ]
    },
    {
     "name": "stdout",
     "output_type": "stream",
     "text": [
      "Syed, you scored 90%! Your grade is A.\n"
     ]
    }
   ],
   "source": [
    "def assign_grade(name):\n",
    "    if name == \"Syed\":\n",
    "        return \"Syed, you scored 90%! Your grade is A.\"\n",
    "    elif name == \"Zeeshan\":\n",
    "        return \"Zeeshan, you have failed. Please try harder next time.\"\n",
    "    else:\n",
    "        return f\"{name}, your marks are not specified in the system.\"\n",
    "# Input from user\n",
    "student_name = input(\"Enter the student's name: \")\n",
    "\n",
    "# Get the result\n",
    "result = assign_grade(student_name)\n",
    "print(result)"
   ]
  },
  {
   "cell_type": "code",
   "execution_count": 32,
   "id": "4ed73261-bdcc-4524-bbc0-14ef11213025",
   "metadata": {},
   "outputs": [
    {
     "name": "stdout",
     "output_type": "stream",
     "text": [
      "Welcome to the Number Guessing Game!\n",
      "I'm thinking of a number between 1 and 100. Can you guess it?\n"
     ]
    },
    {
     "name": "stdin",
     "output_type": "stream",
     "text": [
      "Enter your guess:  25\n"
     ]
    },
    {
     "name": "stdout",
     "output_type": "stream",
     "text": [
      "Too low! Try again.\n"
     ]
    },
    {
     "name": "stdin",
     "output_type": "stream",
     "text": [
      "Enter your guess:  45\n"
     ]
    },
    {
     "name": "stdout",
     "output_type": "stream",
     "text": [
      "Too low! Try again.\n"
     ]
    },
    {
     "name": "stdin",
     "output_type": "stream",
     "text": [
      "Enter your guess:  87\n"
     ]
    },
    {
     "name": "stdout",
     "output_type": "stream",
     "text": [
      "Too low! Try again.\n"
     ]
    },
    {
     "name": "stdin",
     "output_type": "stream",
     "text": [
      "Enter your guess:  97\n"
     ]
    },
    {
     "name": "stdout",
     "output_type": "stream",
     "text": [
      "Too high! Try again.\n"
     ]
    },
    {
     "name": "stdin",
     "output_type": "stream",
     "text": [
      "Enter your guess:  91\n"
     ]
    },
    {
     "name": "stdout",
     "output_type": "stream",
     "text": [
      "Too low! Try again.\n"
     ]
    },
    {
     "name": "stdin",
     "output_type": "stream",
     "text": [
      "Enter your guess:  95\n"
     ]
    },
    {
     "name": "stdout",
     "output_type": "stream",
     "text": [
      "Too low! Try again.\n"
     ]
    },
    {
     "name": "stdin",
     "output_type": "stream",
     "text": [
      "Enter your guess:  96\n"
     ]
    },
    {
     "name": "stdout",
     "output_type": "stream",
     "text": [
      "Congratulations! You guessed the number in 7 attempts.\n"
     ]
    }
   ],
   "source": [
    "##### import random\n",
    "\n",
    "def number_guessing_game():\n",
    "    # Generate a random number between 1 and 100\n",
    "    secret_number = random.randint(1, 100)\n",
    "    attempts = 0\n",
    "\n",
    "    print(\"Welcome to the Number Guessing Game!\")\n",
    "    print(\"I'm thinking of a number between 1 and 100. Can you guess it?\")\n",
    "\n",
    "    while True:\n",
    "        # Get the user's guess\n",
    "        try:\n",
    "            guess = int(input(\"Enter your guess: \"))\n",
    "        except ValueError:\n",
    "            print(\"Please enter a valid number!\")\n",
    "            continue\n",
    "\n",
    "        # Increment the number of attempts\n",
    "        attempts += 1\n",
    "        # Check the guess\n",
    "        if guess < secret_number:\n",
    "            print(\"Too low! Try again.\")\n",
    "        elif guess > secret_number:\n",
    "            print(\"Too high! Try again.\")\n",
    "        else:\n",
    "            print(f\"Congratulations! You guessed the number in {attempts} attempts.\")\n",
    "            break\n",
    "\n",
    "# Run the game\n",
    "number_guessing_game()"
   ]
  },
  {
   "cell_type": "code",
   "execution_count": null,
   "id": "3067e9b2-848d-4c0e-b2d2-390a23e82f31",
   "metadata": {},
   "outputs": [],
   "source": []
  },
  {
   "cell_type": "code",
   "execution_count": null,
   "id": "b894ef2c-366e-4409-ab2b-d330a791a349",
   "metadata": {},
   "outputs": [],
   "source": []
  }
 ],
 "metadata": {
  "kernelspec": {
   "display_name": "Python [conda env:base] *",
   "language": "python",
   "name": "conda-base-py"
  },
  "language_info": {
   "codemirror_mode": {
    "name": "ipython",
    "version": 3
   },
   "file_extension": ".py",
   "mimetype": "text/x-python",
   "name": "python",
   "nbconvert_exporter": "python",
   "pygments_lexer": "ipython3",
   "version": "3.12.7"
  }
 },
 "nbformat": 4,
 "nbformat_minor": 5
}
