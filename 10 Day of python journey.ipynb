{
 "cells": [
  {
   "cell_type": "markdown",
   "id": "2421aa7b-c963-4d75-ba27-484dcdf66c7b",
   "metadata": {},
   "source": [
    "# Date 22/2/2025   (python journey)"
   ]
  },
  {
   "cell_type": "markdown",
   "id": "46abdce8-222d-46fa-b54e-67b266361fc7",
   "metadata": {},
   "source": [
    "## OOPS IN PYTHON"
   ]
  },
  {
   "cell_type": "markdown",
   "id": "f1cbec47-5178-42db-9ae7-bbe78156314c",
   "metadata": {},
   "source": [
    "## Procedure programming"
   ]
  },
  {
   "cell_type": "code",
   "execution_count": 1,
   "id": "2784b6a6-98bb-4dbc-8aa3-525d108aca49",
   "metadata": {},
   "outputs": [
    {
     "name": "stdout",
     "output_type": "stream",
     "text": [
      "50\n",
      "30\n"
     ]
    }
   ],
   "source": [
    "num1 = 40\n",
    "num2 = 10\n",
    "sum = num1 + num2  #step by step programming called prodcure programming\n",
    "diff = num1 - num2\n",
    "print(sum)\n",
    "print(diff)\n"
   ]
  },
  {
   "cell_type": "code",
   "execution_count": 3,
   "id": "5c419f93-37af-4f86-b596-43758d8fd596",
   "metadata": {},
   "outputs": [
    {
     "name": "stdout",
     "output_type": "stream",
     "text": [
      "hellow world\n"
     ]
    }
   ],
   "source": [
    "print(\"hellow world\")"
   ]
  },
  {
   "cell_type": "markdown",
   "id": "6138849e-b7f2-4b5c-8d33-cbaf4705110c",
   "metadata": {},
   "source": [
    "# functional programming"
   ]
  },
  {
   "cell_type": "code",
   "execution_count": 1,
   "id": "92eb614c-17f0-43b7-bc02-ac29816c3e39",
   "metadata": {},
   "outputs": [],
   "source": [
    "def add_number(a, b):\n",
    "    return a + b\n",
    "\n",
    "# Define subtraction function\n",
    "def subtract_number(a, b):\n",
    "    return a - b\n"
   ]
  },
  {
   "cell_type": "code",
   "execution_count": 5,
   "id": "a592570f-bb25-4777-93da-7fbf1434dc38",
   "metadata": {},
   "outputs": [
    {
     "data": {
      "text/plain": [
       "25"
      ]
     },
     "execution_count": 5,
     "metadata": {},
     "output_type": "execute_result"
    }
   ],
   "source": [
    "add_number(6,19)"
   ]
  },
  {
   "cell_type": "code",
   "execution_count": 30,
   "id": "12a89060-d7b1-46db-a76c-37092115e061",
   "metadata": {},
   "outputs": [],
   "source": [
    "class calculator:\n",
    "    def add(self, a, b):\n",
    "        print(a + b)\n",
    "    \n",
    "    def diff(self, a, b):\n",
    "        print(a - b)\n",
    "    \n",
    "    def multi(self, a, b):\n",
    "        print(a * b)\n",
    "        return a * b"
   ]
  },
  {
   "cell_type": "code",
   "execution_count": 32,
   "id": "dfc5af9a-c8b7-4d45-9012-3f596abb500d",
   "metadata": {},
   "outputs": [],
   "source": [
    "calc = calculator()"
   ]
  },
  {
   "cell_type": "code",
   "execution_count": 36,
   "id": "a051e17e-3f4f-4448-9923-c39bbc4d7287",
   "metadata": {},
   "outputs": [
    {
     "name": "stdout",
     "output_type": "stream",
     "text": [
      "34\n"
     ]
    }
   ],
   "source": [
    "calc.add(4,30)"
   ]
  },
  {
   "cell_type": "markdown",
   "id": "57d712a5-fa36-4a78-b28e-c67353832b47",
   "metadata": {},
   "source": [
    "# object oriented progamming"
   ]
  },
  {
   "cell_type": "code",
   "execution_count": 7,
   "id": "bfb32d4b-efaf-4bda-8170-72cb824b2bcd",
   "metadata": {},
   "outputs": [
    {
     "name": "stdout",
     "output_type": "stream",
     "text": [
      "The red toyota car is starting.\n",
      "The blue honda car is starting.\n"
     ]
    }
   ],
   "source": [
    "class Car:\n",
    "    def __init__(self, color, model):\n",
    "        self.color = color\n",
    "        self.model = model\n",
    "\n",
    "    def start(self):\n",
    "        print(f\"The {self.color} {self.model} car is starting.\")\n",
    "\n",
    "# Creating objects properly\n",
    "car1 = Car(\"red\", \"toyota\")\n",
    "car2 = Car(\"blue\", \"honda\")\n",
    "\n",
    "car1.start()  \n",
    "car2.start()\n"
   ]
  },
  {
   "cell_type": "markdown",
   "id": "a61d6bbb-4ad2-46ed-924d-180c36082b75",
   "metadata": {},
   "source": [
    "# init function"
   ]
  },
  {
   "cell_type": "code",
   "execution_count": 44,
   "id": "890813d9-d8bc-41ca-bafd-9b1ca8670b35",
   "metadata": {},
   "outputs": [
    {
     "name": "stdout",
     "output_type": "stream",
     "text": [
      "The Black Toyota car is starting.\n"
     ]
    }
   ],
   "source": [
    "# 1. Define class named 'Car'\n",
    "class Car:\n",
    "    # 2. Initialize object with attributes\n",
    "    def __init__(self, model, color):\n",
    "        # 3. Set model and color\n",
    "        self.model = model\n",
    "        self.color = color\n",
    "\n",
    "    # 4. Define method named 'start'\n",
    "    def start(self):\n",
    "        # 5. Print car's color, model\n",
    "        print(f\"The {self.color} {self.model} car is starting.\")\n",
    "\n",
    "# 6. Create object named 'car1'\n",
    "car1 = Car(\"Toyota\", \"Black\")\n",
    "# 7. Call start on car1\n",
    "car1.start()  # Output: The Black Toyota car is starting."
   ]
  },
  {
   "cell_type": "markdown",
   "id": "13ed4e83-dae8-4c2a-ad47-3202f00a3abb",
   "metadata": {},
   "source": [
    "# polymorphism concept"
   ]
  },
  {
   "cell_type": "code",
   "execution_count": 47,
   "id": "69b7c6d8-17ed-4ab2-b7c2-515a52eaa0cc",
   "metadata": {},
   "outputs": [
    {
     "name": "stdout",
     "output_type": "stream",
     "text": [
      "Bird is flying\n",
      "Airplane is flying\n"
     ]
    }
   ],
   "source": [
    "class Bird:\n",
    "    def fly(self):\n",
    "        print(\"Bird is flying\")\n",
    "class Airplane:\n",
    "    def fly(self):\n",
    "        print(\"Airplane is flying\")\n",
    "bird=Bird()\n",
    "airplane=Airplane()\n",
    "bird.fly()\n",
    "airplane.fly()\n"
   ]
  },
  {
   "cell_type": "code",
   "execution_count": 30,
   "id": "e526a228-8a37-4b22-aa01-6e9822812041",
   "metadata": {},
   "outputs": [
    {
     "name": "stdout",
     "output_type": "stream",
     "text": [
      "animal makes a sound\n",
      "dog barks\n",
      "cat meows\n"
     ]
    }
   ],
   "source": [
    "# parent class\n",
    "class Animal:\n",
    "    def make_sound(self):\n",
    "        print(\"animal makes a sound\")\n",
    "\n",
    "# child class\n",
    "class Dog(Animal):\n",
    "    def make_sound(self):\n",
    "        print(\"dog barks\")\n",
    "\n",
    "# child class\n",
    "class Cat(Animal):\n",
    "    def make_sound(self):\n",
    "        print(\"cat meows\")\n",
    "\n",
    "# Example usage:\n",
    "animal = Animal()\n",
    "dog = Dog()\n",
    "cat = Cat()\n",
    "\n",
    "animal.make_sound()  # Output: animal makes a sound\n",
    "dog.make_sound()     # Output: dog barks\n",
    "cat.make_sound()     # Output: cat meows"
   ]
  },
  {
   "cell_type": "code",
   "execution_count": null,
   "id": "85f126fe-a81b-4c7d-a159-c81fbacdf1bd",
   "metadata": {},
   "outputs": [],
   "source": []
  },
  {
   "cell_type": "code",
   "execution_count": 26,
   "id": "adfcc8cd-63bb-4bf9-9064-52266b69a7df",
   "metadata": {},
   "outputs": [
    {
     "name": "stdout",
     "output_type": "stream",
     "text": [
      "5\n",
      "9\n"
     ]
    }
   ],
   "source": [
    "class Calculator:\n",
    "    def add(self, a, b, c=0):\n",
    "        print(a + b + c)\n",
    "\n",
    "calc = Calculator()\n",
    "calc.add(2, 3)\n",
    "calc.add(2, 3, 4)"
   ]
  },
  {
   "cell_type": "code",
   "execution_count": 41,
   "id": "6f9c63a3-6467-40a6-bc3e-57d81e6fb950",
   "metadata": {},
   "outputs": [
    {
     "name": "stdout",
     "output_type": "stream",
     "text": [
      "playing media\n",
      "playing audio file\n",
      "playing video file\n"
     ]
    }
   ],
   "source": [
    "class MediaPlayer:\n",
    "    def play(self):\n",
    "        print(\"playing media\")\n",
    "class AudioPlayer(MediaPlayer):\n",
    "    def play(self):\n",
    "        print(\"playing audio file\")\n",
    "class VideoPlayer(MediaPlayer):\n",
    "    def play(self):\n",
    "        print(\"playing video file\")\n",
    "media=MediaPlayer()\n",
    "audio=AudioPlayer()\n",
    "video=VideoPlayer()\n",
    "media.play()\n",
    "audio.play()\n",
    "video.play()\n"
   ]
  },
  {
   "cell_type": "markdown",
   "id": "a5d753f1-f566-4d73-9a4d-9ac003191b0a",
   "metadata": {},
   "source": [
    "# single inhertience"
   ]
  },
  {
   "cell_type": "code",
   "execution_count": 39,
   "id": "5be72016-60f2-4ad7-98c5-b467a1befed0",
   "metadata": {},
   "outputs": [
    {
     "name": "stdout",
     "output_type": "stream",
     "text": [
      "this is parent class\n"
     ]
    }
   ],
   "source": [
    "class Parent:\n",
    "    def show(self):\n",
    "        print(\"this is parent class\")\n",
    "class Child(Parent):\n",
    "    def display(self):\n",
    "        print(\"this is child class\")\n",
    "child=Child()\n",
    "child.show()\n"
   ]
  },
  {
   "cell_type": "markdown",
   "id": "8a857a2d-338d-4a15-8d16-e5a10a57ee57",
   "metadata": {},
   "source": [
    "# multpies inherits"
   ]
  },
  {
   "cell_type": "code",
   "execution_count": 59,
   "id": "00784e39-4033-49d2-8575-36d7c402ff91",
   "metadata": {},
   "outputs": [
    {
     "name": "stdout",
     "output_type": "stream",
     "text": [
      "this is mother class\n",
      "this is father class\n",
      "i am child class\n"
     ]
    }
   ],
   "source": [
    "class Mother:\n",
    "    def show_mother(self):\n",
    "        print(\"this is mother class\")\n",
    "class Father:\n",
    "    def show_father(self):\n",
    "        print(\"this is father class\")\n",
    "class Child(Mother,Father):\n",
    "    def show_child(self):\n",
    "        print(\"i am child class\")\n",
    "child=Child()\n",
    "child.show_mother()\n",
    "child.show_father()\n",
    "child.show_child()\n"
   ]
  },
  {
   "cell_type": "code",
   "execution_count": 37,
   "id": "ac6d9c1c-edb7-4abb-8818-129f9617eb50",
   "metadata": {},
   "outputs": [
    {
     "name": "stdout",
     "output_type": "stream",
     "text": [
      "grand parents\n",
      "parents\n",
      "child class\n"
     ]
    }
   ],
   "source": [
    "class Grandparent:\n",
    "    def show_grandparent(self):\n",
    "        print(\"grand parents\")\n",
    "class Parent(Grandparent):\n",
    "    def show_parents(self):\n",
    "        print(\"parents\")\n",
    "class Child(Parent):\n",
    "    def show_child(self):\n",
    "        print(\"child class\")\n",
    "child = Child()\n",
    "child.show_grandparent()\n",
    "child.show_parents()\n",
    "child.show_child()\n"
   ]
  },
  {
   "cell_type": "code",
   "execution_count": null,
   "id": "bf25a411-350b-4860-a1c4-c738b6e290b8",
   "metadata": {},
   "outputs": [],
   "source": []
  },
  {
   "cell_type": "code",
   "execution_count": null,
   "id": "c20e9d60-a287-45ee-a2ab-bf4c5eb5162d",
   "metadata": {},
   "outputs": [],
   "source": []
  },
  {
   "cell_type": "code",
   "execution_count": null,
   "id": "987269d9-5dba-47da-b946-5aad3ec6a20a",
   "metadata": {},
   "outputs": [],
   "source": []
  },
  {
   "cell_type": "code",
   "execution_count": null,
   "id": "a0d0f964-6fee-49a7-8500-188b7e2b25c6",
   "metadata": {},
   "outputs": [],
   "source": []
  },
  {
   "cell_type": "code",
   "execution_count": null,
   "id": "f2d870b5-fcc2-420e-a065-f65da3fda348",
   "metadata": {},
   "outputs": [],
   "source": []
  },
  {
   "cell_type": "code",
   "execution_count": null,
   "id": "fea2b17a-805a-4a26-b2d6-1947c1d93a69",
   "metadata": {},
   "outputs": [],
   "source": []
  },
  {
   "cell_type": "code",
   "execution_count": null,
   "id": "d85a8e30-8d66-4563-97ac-3bb1d95ffa84",
   "metadata": {},
   "outputs": [],
   "source": []
  },
  {
   "cell_type": "code",
   "execution_count": null,
   "id": "96a97cac-3e04-44c8-9c78-042952435194",
   "metadata": {},
   "outputs": [],
   "source": []
  },
  {
   "cell_type": "code",
   "execution_count": null,
   "id": "e7c6b5d8-7eae-4750-918b-9a17cec79f7b",
   "metadata": {},
   "outputs": [],
   "source": []
  },
  {
   "cell_type": "code",
   "execution_count": null,
   "id": "3d420117-da3c-466b-a788-a6779768419d",
   "metadata": {},
   "outputs": [],
   "source": []
  },
  {
   "cell_type": "code",
   "execution_count": null,
   "id": "0cfaa042-b1f7-4250-948b-d3f1252092b0",
   "metadata": {},
   "outputs": [],
   "source": []
  },
  {
   "cell_type": "code",
   "execution_count": null,
   "id": "69c30fc6-2edc-4330-bffc-53248041e607",
   "metadata": {},
   "outputs": [],
   "source": []
  }
 ],
 "metadata": {
  "kernelspec": {
   "display_name": "Python [conda env:base] *",
   "language": "python",
   "name": "conda-base-py"
  },
  "language_info": {
   "codemirror_mode": {
    "name": "ipython",
    "version": 3
   },
   "file_extension": ".py",
   "mimetype": "text/x-python",
   "name": "python",
   "nbconvert_exporter": "python",
   "pygments_lexer": "ipython3",
   "version": "3.12.7"
  }
 },
 "nbformat": 4,
 "nbformat_minor": 5
}
