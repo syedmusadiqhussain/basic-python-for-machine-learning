{
 "cells": [
  {
   "cell_type": "markdown",
   "id": "25c2d507-c847-46f0-ab53-8276417af4d8",
   "metadata": {},
   "source": [
    "# Date 19/2/2025  (python journey)"
   ]
  },
  {
   "cell_type": "code",
   "execution_count": 20,
   "id": "98c23f1b-88d7-42ac-bfea-026538e519e2",
   "metadata": {},
   "outputs": [
    {
     "name": "stdout",
     "output_type": "stream",
     "text": [
      "hellow world\n"
     ]
    }
   ],
   "source": [
    "print(\"hellow world\")"
   ]
  },
  {
   "cell_type": "code",
   "execution_count": 145,
   "id": "aab0d351-dcee-4d2b-ba52-661ec440bb66",
   "metadata": {},
   "outputs": [
    {
     "name": "stdin",
     "output_type": "stream",
     "text": [
      "Enter the number of people:  2\n",
      "Enter the age of person 1:  2\n",
      "Enter the age of person 2:  3\n"
     ]
    },
    {
     "name": "stdout",
     "output_type": "stream",
     "text": [
      "The number of children: 2\n",
      "The number of adults: 0\n",
      "The number of senior adults: 0\n"
     ]
    }
   ],
   "source": [
    "# 🔰 Asking the user for the number of people\n",
    "num_people = int(input(\"Enter the number of people: \"))\n",
    "ages = []\n",
    "\n",
    "# 🔄 Collecting ages from the user\n",
    "for i in range(num_people):\n",
    "    age = int(input(f\"Enter the age of person {i + 1}: \"))\n",
    "    ages.append(age)\n",
    "\n",
    "# 🔢 Counters for different age groups\n",
    "child_count = 0\n",
    "adult_count = 0\n",
    "senior_count = 0\n",
    "\n",
    "# 🧮 Categorizing ages into child, adult, and senior\n",
    "for age in ages:\n",
    "    if age < 10:\n",
    "        child_count += 1\n",
    "    elif 10 <= age < 62:\n",
    "        adult_count += 1\n",
    "    else:\n",
    "        senior_count += 1\n",
    "\n",
    "# 🖨️ Displaying the results\n",
    "print(\"The number of children:\", child_count)\n",
    "print(\"The number of adults:\", adult_count)\n",
    "print(\"The number of senior adults:\", senior_count)\n"
   ]
  },
  {
   "cell_type": "markdown",
   "id": "517c98eb-a4dd-4359-9942-da924883c244",
   "metadata": {},
   "source": [
    "# lecture 17"
   ]
  },
  {
   "cell_type": "markdown",
   "id": "e94fbb81-5cd4-4e7b-91c4-b31a30129e05",
   "metadata": {},
   "source": [
    "# tuples"
   ]
  },
  {
   "cell_type": "code",
   "execution_count": 54,
   "id": "06b59412-6b44-40fd-8f3b-a02f97345d82",
   "metadata": {},
   "outputs": [
    {
     "name": "stdout",
     "output_type": "stream",
     "text": [
      "Type of sample_tuple: <class 'tuple'>\n"
     ]
    }
   ],
   "source": [
    "sample_tuple = (1, 2, 3)\n",
    "print(\"Type of sample_tuple:\", type(sample_tuple))"
   ]
  },
  {
   "cell_type": "code",
   "execution_count": 60,
   "id": "d4aeb043-f14b-4c04-896f-03186b6fc535",
   "metadata": {},
   "outputs": [
    {
     "name": "stdout",
     "output_type": "stream",
     "text": [
      "Type of sample_tuple: <class 'tuple'>\n",
      "Empty tuple: ()\n",
      "Single element tuple: (42,)\n",
      "Mixed data type tuple: (1, 'Hello', 3.14, True)\n",
      "Nested tuple: (1, 2, (3, 4, ('nested', 5)))\n",
      "Tuple using constructor: (10, 20, 30)\n",
      "Converted from list to tuple: (1, 2, 3, 4)\n",
      "Converted from string to tuple: ('H', 'e', 'l', 'l', 'o')\n",
      "Converted from dictionary to tuple (keys only): ('a', 'b', 'c')\n",
      "Converted from set to tuple: (200, 100, 300)\n"
     ]
    }
   ],
   "source": [
    "# 1️⃣ Tuple Class\n",
    "sample_tuple = (1, 2, 3)\n",
    "print(\"Type of sample_tuple:\", type(sample_tuple))\n",
    "\n",
    "# 2️⃣ Empty Tuple\n",
    "empty_tuple = ()\n",
    "print(\"Empty tuple:\", empty_tuple)\n",
    "\n",
    "# 3️⃣ Single Element Tuple (comma is necessary)\n",
    "single_element_tuple = (42,)\n",
    "print(\"Single element tuple:\", single_element_tuple)\n",
    "\n",
    "# 4️⃣ Tuple Mixed with Data Types\n",
    "mixed_tuple = (1, \"Hello\", 3.14, True)\n",
    "print(\"Mixed data type tuple:\", mixed_tuple)\n",
    "\n",
    "# 5️⃣ Nested Tuples\n",
    "nested_tuple = (1, 2, (3, 4, (\"nested\", 5)))\n",
    "print(\"Nested tuple:\", nested_tuple)\n",
    "\n",
    "# 6️⃣ Tuple Constructor\n",
    "constructed_tuple = tuple([10, 20, 30])\n",
    "print(\"Tuple using constructor:\", constructed_tuple)\n",
    "\n",
    "# 7️⃣ Converting List into Tuple\n",
    "sample_list = [1, 2, 3, 4]\n",
    "converted_tuple = tuple(sample_list)\n",
    "print(\"Converted from list to tuple:\", converted_tuple)\n",
    "\n",
    "# 8️⃣ Converting String into Tuple (each character becomes an element)\n",
    "sample_string = \"Hello\"\n",
    "string_tuple = tuple(sample_string)\n",
    "print(\"Converted from string to tuple:\", string_tuple)\n",
    "\n",
    "# 9️⃣ Converting Dictionary into Tuple (only keys are included)\n",
    "sample_dict = {'a': 1, 'b': 2, 'c': 3}\n",
    "dict_tuple = tuple(sample_dict)\n",
    "print(\"Converted from dictionary to tuple (keys only):\", dict_tuple)\n",
    "\n",
    "# 1️⃣0️⃣ Converting Set into Tuple\n",
    "sample_set = {100, 200, 300}\n",
    "set_tuple = tuple(sample_set)\n",
    "print(\"Converted from set to tuple:\", set_tuple)\n"
   ]
  },
  {
   "cell_type": "code",
   "execution_count": 139,
   "id": "716fa5db-8b3a-436d-94e2-48992b414d87",
   "metadata": {},
   "outputs": [
    {
     "name": "stdout",
     "output_type": "stream",
     "text": [
      "Sliced tuple (index 2 to 5): (30, 40, 50, 60)\n",
      "Sliced tuple using negative indexing (-5 to -1): (60, 70, 80, 90)\n",
      "Reversed tuple: (100, 90, 80, 70, 60, 50, 40, 30, 20, 10)\n",
      "Tuple with duplicates: (1, 2, 3, 2, 4, 2, 5)\n",
      "Count of '2' in tuple: 3\n",
      "Index of first occurrence of '3': 2\n",
      "Index of '2' after first occurrence: 3\n"
     ]
    }
   ],
   "source": [
    "# Sample tuple for demonstration\n",
    "sample_tuple = (10, 20, 30, 40, 50, 60, 70, 80, 90, 100)\n",
    "\n",
    "# 1️⃣ Slicing in Tuple\n",
    "slice_tuple = sample_tuple[2:6]  # Elements from index 2 to 5\n",
    "print(\"Sliced tuple (index 2 to 5):\", slice_tuple)\n",
    "\n",
    "# 2️⃣ Slicing with Negative Indexing\n",
    "negative_slice = sample_tuple[-5:-1]  # Elements from the 5th last to the 2nd last\n",
    "print(\"Sliced tuple using negative indexing (-5 to -1):\", negative_slice)\n",
    "\n",
    "# 3️⃣ Reversing the Tuple\n",
    "reversed_tuple = sample_tuple[::-1]\n",
    "print(\"Reversed tuple:\", reversed_tuple)\n",
    "\n",
    "# 4️⃣ Duplicates are Allowed in Tuple\n",
    "duplicate_tuple = (1, 2, 3, 2, 4, 2, 5)\n",
    "print(\"Tuple with duplicates:\", duplicate_tuple)\n",
    "\n",
    "# 5️⃣ count() Method - Counts how many times an element appears\n",
    "count_of_two = duplicate_tuple.count(2)\n",
    "print(\"Count of '2' in tuple:\", count_of_two)\n",
    "\n",
    "# 6️⃣ index() Method - Returns the first index of a specified element\n",
    "index_of_three = duplicate_tuple.index(3)\n",
    "print(\"Index of first occurrence of '3':\", index_of_three)\n",
    "\n",
    "# Additional: index() with start and end parameters\n",
    "index_of_two_after_first = duplicate_tuple.index(2, 2)  # Search for '2' after index 2\n",
    "print(\"Index of '2' after first occurrence:\", index_of_two_after_first)\n"
   ]
  },
  {
   "cell_type": "code",
   "execution_count": null,
   "id": "2a4dff28-080e-4512-ba88-3013ec5eb9ff",
   "metadata": {},
   "outputs": [],
   "source": [
    "original_tuple = (10, 20, 30, 40)\n",
    "\n",
    "# 1️⃣ Converting Tuple into List\n",
    "tuple_to_list = list(original_tuple)\n",
    "print(\"Converted tuple to list:\", tuple_to_list)\n",
    "\n",
    "# 2️⃣ Adding Items to a Tuple (via conversion to list, since tuples are immutable)\n",
    "tuple_to_list.append(50)        # Adding single item\n",
    "tuple_to_list.extend([60, 70])  # Adding multiple items\n",
    "modified_tuple = tuple(tuple_to_list)\n",
    "print(\"Tuple after adding items:\", modified_tuple)\n",
    "\n",
    "# 3️⃣ Adding Tuple to a Tuple (Concatenation)\n",
    "another_tuple = (80, 90)\n",
    "combined_tuple = modified_tuple + another_tuple\n",
    "print(\"Combined tuple after adding another tuple:\", combined_tuple)\n",
    "\n",
    "# 4️⃣ Removing Items from a Tuple (via list conversion)\n",
    "temp_list = list(combined_tuple)\n",
    "temp_list.remove(30)  # Remove the value 30\n",
    "tuple_after_removal = tuple(temp_list)\n",
    "print(\"Tuple after removing item 30:\", tuple_after_removal)\n",
    "\n",
    "# 5️⃣ Changing Items in a Tuple (convert to list -> modify -> convert back)\n",
    "temp_list = list(tuple_after_removal)  # Reassign temp_list to the latest tuple\n",
    "temp_list[0] = 15  # Changing first element (10 -> 15)\n",
    "changed_tuple = tuple(temp_list)\n",
    "print(\"Tuple after changing first element:\", changed_tuple)\n",
    "\n",
    "# 6️⃣ Using del Keyword (deleting entire tuple)\n",
    "del changed_tuple\n",
    "# print(changed_tuple)  # This will raise an error since the tuple is deleted\n",
    "\n",
    "# 7️⃣ Loop Through a Tuple\n",
    "loop_tuple = (100, 200, 300)\n",
    "print(\"Looping through tuple:\")\n",
    "for item in loop_tuple:\n",
    "    print(item)\n",
    "\n",
    "# 8️⃣ Joining Two Tuples (Concatenation)\n",
    "tuple1 = (1, 2, 3)\n",
    "tuple2 = (4, 5, 6)\n",
    "joined_tuple = tuple1 + tuple2\n",
    "print(\"Joined tuple:\", joined_tuple)\n",
    "\n",
    "# 9️⃣ Multiplying Tuples (Repeating a tuple multiple times)\n",
    "multiplied_tuple = tuple1 * 3  # Repeats tuple1 three times\n",
    "print(\"Multiplied tuple:\", multiplied_tuple)"
   ]
  },
  {
   "cell_type": "markdown",
   "id": "1054e040-7855-4bc2-9de7-38f51d3b3607",
   "metadata": {},
   "source": [
    "# set"
   ]
  },
  {
   "cell_type": "code",
   "execution_count": 62,
   "id": "a40a38ef-d312-43cc-a514-0bc202598eb7",
   "metadata": {},
   "outputs": [
    {
     "name": "stdout",
     "output_type": "stream",
     "text": [
      "Sample Set: {1, 2, 3, 4, 5}\n",
      "Empty Set: set()\n",
      "Set after adding 6: {1, 2, 3, 4, 5, 6}\n",
      "Set after adding multiple items: {1, 2, 3, 4, 5, 6, 7, 8, 9}\n",
      "Set after removing 3: {1, 2, 4, 5, 6, 7, 8, 9}\n",
      "Set after discarding 10 (if present): {1, 2, 4, 5, 6, 7, 8, 9}\n",
      "Popped element: 1\n",
      "Set after popping: {2, 4, 5, 6, 7, 8, 9}\n",
      "Set after clearing all elements: set()\n",
      "Set with duplicates removed automatically: {1, 2, 3, 4, 5}\n",
      "Union of set_a and set_b: {1, 2, 3, 4, 5}\n",
      "Intersection of set_a and set_b: {3}\n",
      "Difference of set_a - set_b: {1, 2}\n",
      "Symmetric difference between set_a and set_b: {1, 2, 4, 5}\n",
      "Is {1, 2} a subset of set_a? True\n",
      "Is set_a a superset of {1, 2}? True\n",
      "Are {10, 20} and set_b disjoint? True\n"
     ]
    }
   ],
   "source": [
    "# 1️⃣ Creating a Set\n",
    "sample_set = {1, 2, 3, 4, 5}\n",
    "print(\"Sample Set:\", sample_set)\n",
    "\n",
    "# 2️⃣ Creating an Empty Set (using set() NOT {})\n",
    "empty_set = set()\n",
    "print(\"Empty Set:\", empty_set)\n",
    "\n",
    "# 3️⃣ Adding Items to a Set\n",
    "sample_set.add(6)  # Adding a single element\n",
    "print(\"Set after adding 6:\", sample_set)\n",
    "\n",
    "# 4️⃣ Adding Multiple Items to a Set (update method)\n",
    "sample_set.update([7, 8, 9])\n",
    "print(\"Set after adding multiple items:\", sample_set)\n",
    "\n",
    "# 5️⃣ Removing Items from a Set\n",
    "sample_set.remove(3)  # Raises KeyError if item doesn't exist\n",
    "print(\"Set after removing 3:\", sample_set)\n",
    "\n",
    "# Using discard() method (no error if item not found)\n",
    "sample_set.discard(10)  # Safe removal (no error if element not found)\n",
    "print(\"Set after discarding 10 (if present):\", sample_set)\n",
    "\n",
    "# 6️⃣ Popping an Element (removes and returns a random element)\n",
    "popped_element = sample_set.pop()\n",
    "print(f\"Popped element: {popped_element}\")\n",
    "print(\"Set after popping:\", sample_set)\n",
    "\n",
    "# 7️⃣ Clearing a Set (removes all elements)\n",
    "sample_set.clear()\n",
    "print(\"Set after clearing all elements:\", sample_set)\n",
    "\n",
    "# 8️⃣ Set with Duplicate Values (duplicates get removed)\n",
    "duplicate_set = {1, 2, 2, 3, 4, 4, 5}\n",
    "print(\"Set with duplicates removed automatically:\", duplicate_set)\n",
    "\n",
    "# 9️⃣ Set Union (combines sets without duplicates)\n",
    "set_a = {1, 2, 3}\n",
    "set_b = {3, 4, 5}\n",
    "union_set = set_a.union(set_b)\n",
    "print(\"Union of set_a and set_b:\", union_set)\n",
    "\n",
    "# 🔟 Set Intersection (common elements)\n",
    "intersection_set = set_a.intersection(set_b)\n",
    "print(\"Intersection of set_a and set_b:\", intersection_set)\n",
    "\n",
    "# 1️⃣1️⃣ Set Difference (elements in set_a but not in set_b)\n",
    "difference_set = set_a.difference(set_b)\n",
    "print(\"Difference of set_a - set_b:\", difference_set)\n",
    "\n",
    "# 1️⃣2️⃣ Symmetric Difference (elements in either set, but not both)\n",
    "symmetric_difference_set = set_a.symmetric_difference(set_b)\n",
    "print(\"Symmetric difference between set_a and set_b:\", symmetric_difference_set)\n",
    "\n",
    "# 1️⃣3️⃣ Checking Subset and Superset\n",
    "subset_check = {1, 2}.issubset(set_a)\n",
    "print(\"Is {1, 2} a subset of set_a?\", subset_check)\n",
    "\n",
    "superset_check = set_a.issuperset({1, 2})\n",
    "print(\"Is set_a a superset of {1, 2}?\", superset_check)\n",
    "\n",
    "# 1️⃣4️⃣ Checking Disjoint Sets (no common elements)\n",
    "disjoint_check = {10, 20}.isdisjoint(set_b)\n",
    "print(\"Are {10, 20} and set_b disjoint?\", disjoint_check)\n"
   ]
  },
  {
   "cell_type": "code",
   "execution_count": null,
   "id": "5e3236fc-d15e-4b32-b3b9-38204aa83ce5",
   "metadata": {},
   "outputs": [],
   "source": []
  }
 ],
 "metadata": {
  "kernelspec": {
   "display_name": "Python [conda env:base] *",
   "language": "python",
   "name": "conda-base-py"
  },
  "language_info": {
   "codemirror_mode": {
    "name": "ipython",
    "version": 3
   },
   "file_extension": ".py",
   "mimetype": "text/x-python",
   "name": "python",
   "nbconvert_exporter": "python",
   "pygments_lexer": "ipython3",
   "version": "3.12.7"
  }
 },
 "nbformat": 4,
 "nbformat_minor": 5
}
