{
 "cells": [
  {
   "cell_type": "markdown",
   "id": "8a9ddd29-0979-438f-a73a-ae18597ab150",
   "metadata": {},
   "source": [
    "# Date 18/2/2025   (python journey)"
   ]
  },
  {
   "cell_type": "markdown",
   "id": "dc1f9154-4af5-49b5-bde8-73aa4dd5f252",
   "metadata": {},
   "source": [
    "# list"
   ]
  },
  {
   "cell_type": "code",
   "execution_count": 3,
   "id": "928014f0-9218-4756-b935-ed991e8a1fe7",
   "metadata": {},
   "outputs": [
    {
     "name": "stdout",
     "output_type": "stream",
     "text": [
      "['a', 'b', 'c']\n",
      "<class 'list'>\n"
     ]
    }
   ],
   "source": [
    "my_list=[\"a\",\"b\",\"c\"]\n",
    "print(my_list)\n",
    "print(type(my_list))"
   ]
  },
  {
   "cell_type": "markdown",
   "id": "7fd1f1ac-c8ef-491d-a720-f8570e090ea1",
   "metadata": {},
   "source": [
    "# properties of list"
   ]
  },
  {
   "cell_type": "code",
   "execution_count": 10,
   "id": "a5eb00d5-f95c-46bd-8c2c-2f5238150f3d",
   "metadata": {},
   "outputs": [
    {
     "name": "stdout",
     "output_type": "stream",
     "text": [
      "cherry\n"
     ]
    }
   ],
   "source": [
    "fruit = [\"orange\", \"cherry\", \"mango\"]\n",
    "print(fruit[1])  # Output: cherry\n"
   ]
  },
  {
   "cell_type": "code",
   "execution_count": 14,
   "id": "a8a4b1e5-26dd-4a5a-883b-bc9a35aa2e02",
   "metadata": {},
   "outputs": [
    {
     "name": "stdout",
     "output_type": "stream",
     "text": [
      "40\n"
     ]
    }
   ],
   "source": [
    "mixed_list = [1, \"hello\", 40, [1, 23]] #hetergenous mixture\n",
    "print(mixed_list[2])  # Output: 40\n"
   ]
  },
  {
   "cell_type": "code",
   "execution_count": 19,
   "id": "039e149e-5a99-4617-ace1-21b93115591f",
   "metadata": {},
   "outputs": [
    {
     "name": "stdout",
     "output_type": "stream",
     "text": [
      "[10, 11, 21, 34]\n"
     ]
    }
   ],
   "source": [
    "number = [10, 11, 21, 34]\n",
    "print(number[:4])  # Output: [10, 11, 21, 34]\n"
   ]
  },
  {
   "cell_type": "code",
   "execution_count": 21,
   "id": "ffff577f-f1da-4825-b760-120e0380e5e9",
   "metadata": {},
   "outputs": [
    {
     "name": "stdout",
     "output_type": "stream",
     "text": [
      "[10, 11, 21, 34]\n"
     ]
    }
   ],
   "source": [
    "number = [10, 11, 21, 34]\n",
    "print(number[:])  # Output: [10, 11, 21, 34]\n"
   ]
  },
  {
   "cell_type": "code",
   "execution_count": 29,
   "id": "862e22e9-8b96-4a81-bc92-56ec573dca29",
   "metadata": {},
   "outputs": [
    {
     "name": "stdout",
     "output_type": "stream",
     "text": [
      "10\n",
      "34\n"
     ]
    }
   ],
   "source": [
    "number = [10, 11, 21, 34] #negative indexing\n",
    "print(number[-4]) \n",
    "print(number[-1])"
   ]
  },
  {
   "cell_type": "code",
   "execution_count": 31,
   "id": "73151d6e-d4fc-4d56-8583-0f27d251ff69",
   "metadata": {},
   "outputs": [
    {
     "name": "stdout",
     "output_type": "stream",
     "text": [
      "[10, 21]\n",
      "[10, 34]\n"
     ]
    }
   ],
   "source": [
    "number = [10, 11, 21, 34] # indexing with jumps\n",
    "print(number[::2]) \n",
    "print(number[::3])"
   ]
  },
  {
   "cell_type": "markdown",
   "id": "c0a37b8d-3f57-40be-be88-d49d3710a9c8",
   "metadata": {},
   "source": [
    "# pratice question"
   ]
  },
  {
   "cell_type": "code",
   "execution_count": 38,
   "id": "c6cbd82f-90d3-4b2d-b664-cce2c2a63db2",
   "metadata": {},
   "outputs": [
    {
     "name": "stdout",
     "output_type": "stream",
     "text": [
      "[92, 105]\n"
     ]
    }
   ],
   "source": [
    "scores = [62, 92, 2, 62, 54, 105, 6]\n",
    "high_score = []\n",
    "\n",
    "for score in scores:\n",
    "    if score > 70:\n",
    "        high_score.append(score)  # Corrected this line\n",
    "    else:\n",
    "        pass \n",
    "\n",
    "print(high_score)  \n"
   ]
  },
  {
   "cell_type": "markdown",
   "id": "81100bb8-92e7-4000-a511-3d68f4665797",
   "metadata": {},
   "source": [
    "# multiple properties of the last"
   ]
  },
  {
   "cell_type": "code",
   "execution_count": 41,
   "id": "a6fe6819-de32-403c-ab6b-9c6507dac6f2",
   "metadata": {},
   "outputs": [
    {
     "name": "stdout",
     "output_type": "stream",
     "text": [
      "[62, 92, 50, 62, 54, 105, 6]\n"
     ]
    }
   ],
   "source": [
    "scores = [62, 92, 2, 62, 54, 105, 6]\n",
    "\n",
    "# Changing the 3rd element (index 2) to 50\n",
    "scores[2] = 50\n",
    "\n",
    "print(scores)  \n"
   ]
  },
  {
   "cell_type": "code",
   "execution_count": null,
   "id": "018102e5-56e0-4098-ab3e-6add16324c7c",
   "metadata": {},
   "outputs": [],
   "source": [
    "scores = [62, 92, 2, 62, 54, 105, 6]\n",
    "\n",
    "# Changing elements from index 1 to 3 (not including 4)\n",
    "scores[1:4] = [99, 88, 77]\n",
    "\n",
    "print(scores)\n"
   ]
  },
  {
   "cell_type": "code",
   "execution_count": null,
   "id": "ba1e551d-41d7-4d03-81f9-8de601ae89f6",
   "metadata": {},
   "outputs": [],
   "source": [
    "scores = [62, 92, 2, 62, 54, 105, 6]\n",
    "scores.append(99)  # Adds 99 at the end\n",
    "print(scores)\n"
   ]
  },
  {
   "cell_type": "code",
   "execution_count": 45,
   "id": "4aa1a8b8-ef08-46bb-886d-3e4223f9e8d2",
   "metadata": {},
   "outputs": [
    {
     "name": "stdout",
     "output_type": "stream",
     "text": [
      "[62, 2, 62, 54, 105, 6]\n"
     ]
    }
   ],
   "source": [
    "scores = [62, 92, 2, 62, 54, 105, 6]\n",
    "scores.remove(92)  # remove 92 at the end\n",
    "print(scores)\n"
   ]
  },
  {
   "cell_type": "code",
   "execution_count": 47,
   "id": "d39f4d97-2d61-4649-a3d1-e1ed03b76851",
   "metadata": {},
   "outputs": [
    {
     "name": "stdout",
     "output_type": "stream",
     "text": [
      "[62, 92, 2, 62, 54, 105, 6, 300, 400]\n"
     ]
    }
   ],
   "source": [
    "scores = [62, 92, 2, 62, 54, 105, 6]\n",
    "additional_scores = [300, 400]\n",
    "\n",
    "combined_scores = scores + additional_scores  # Join the two lists\n",
    "print(combined_scores)\n"
   ]
  },
  {
   "cell_type": "code",
   "execution_count": null,
   "id": "33edff87-d06e-4817-a59e-0724c78e5b78",
   "metadata": {},
   "outputs": [],
   "source": [
    "a = [34, 34, 35, 36, 2, \"apple\", \"syed\", 5]\n",
    "print(\"syed\" in a)  # Checking if \"syed\" is in the list\n"
   ]
  },
  {
   "cell_type": "code",
   "execution_count": null,
   "id": "51b3011c-af22-4ea2-82c0-979e07ec12ae",
   "metadata": {},
   "outputs": [],
   "source": [
    "a = [34, 34, 35, 36, 2, \"apple\", \"syed\", 5]\n",
    "a.reverse()  # Reverses the list in place\n",
    "print(a)\n"
   ]
  },
  {
   "cell_type": "markdown",
   "id": "09f9fa3c-ca98-470a-b839-b1731a78d78f",
   "metadata": {},
   "source": [
    "# exercise question"
   ]
  },
  {
   "cell_type": "code",
   "execution_count": 54,
   "id": "a23e7ba8-f665-4d93-8496-4fa998b8fda3",
   "metadata": {},
   "outputs": [
    {
     "name": "stdout",
     "output_type": "stream",
     "text": [
      "['yes', 'no', 'maybe', 'yes', 'syedmusadiq']\n"
     ]
    }
   ],
   "source": [
    "response = [\"yes\", \"\", \"no\", \"\", \"maybe\", \"\", \"\", \"yes\", \"\", \"syedmusadiq\"]\n",
    "clean = []\n",
    "\n",
    "for resp in response:\n",
    "    if resp != \"\":\n",
    "        clean.append(resp)\n",
    "\n",
    "print(clean)\n"
   ]
  },
  {
   "cell_type": "code",
   "execution_count": 60,
   "id": "9aa16f71-0f90-4711-bcea-5f0f40939f72",
   "metadata": {},
   "outputs": [
    {
     "name": "stdout",
     "output_type": "stream",
     "text": [
      "The average score of class 1 is: 64.0\n",
      "The average score of class 2 is: 46.2\n"
     ]
    }
   ],
   "source": [
    "class1_scores = [34, 56, 67, 77, 86]  # Fixed list syntax (added commas)\n",
    "class2_scores = [34, 56, 77, 32, 32]  # Fixed list syntax (added commas)\n",
    "\n",
    "# Calculate average scores\n",
    "class1_avg = sum(class1_scores) / len(class1_scores)  # Fixed variable name and parentheses\n",
    "class2_avg = sum(class2_scores) / len(class2_scores)  # Fixed variable name\n",
    "\n",
    "# Print average scores\n",
    "print(\"The average score of class 1 is:\", class1_avg)\n",
    "print(\"The average score of class 2 is:\", class2_avg)\n"
   ]
  },
  {
   "cell_type": "code",
   "execution_count": 62,
   "id": "a24dffbc-3148-42e4-873f-426383f3bdfa",
   "metadata": {},
   "outputs": [
    {
     "name": "stdout",
     "output_type": "stream",
     "text": [
      "[1, 2, 3, [4, 5]]\n"
     ]
    }
   ],
   "source": [
    "number=[1,2,3]\n",
    "number.append([4,5])\n",
    "print(number)"
   ]
  },
  {
   "cell_type": "code",
   "execution_count": 64,
   "id": "69c32611-8b20-48fe-8822-fd2b2f68a327",
   "metadata": {},
   "outputs": [
    {
     "name": "stdout",
     "output_type": "stream",
     "text": [
      "helloworld\n"
     ]
    }
   ],
   "source": [
    "word = ['hello', 'world']  # Corrected the quotes\n",
    "sentence = ''.join(word)  # Corrected variable name 'wprd' to 'word'\n",
    "print(sentence)  # Corrected variable name to 'sentence'\n"
   ]
  },
  {
   "cell_type": "code",
   "execution_count": null,
   "id": "a354f9ef-3ca1-4a42-9711-a8748a00ddab",
   "metadata": {},
   "outputs": [],
   "source": []
  },
  {
   "cell_type": "code",
   "execution_count": null,
   "id": "9101f577-033b-42f5-a277-2e34cf57c392",
   "metadata": {},
   "outputs": [],
   "source": []
  },
  {
   "cell_type": "code",
   "execution_count": null,
   "id": "63bf2563-f359-495c-ab21-5508930f2af5",
   "metadata": {},
   "outputs": [],
   "source": []
  },
  {
   "cell_type": "code",
   "execution_count": null,
   "id": "d2f77728-3853-4b02-a2e7-1d7512920f81",
   "metadata": {},
   "outputs": [],
   "source": []
  }
 ],
 "metadata": {
  "kernelspec": {
   "display_name": "Python [conda env:base] *",
   "language": "python",
   "name": "conda-base-py"
  },
  "language_info": {
   "codemirror_mode": {
    "name": "ipython",
    "version": 3
   },
   "file_extension": ".py",
   "mimetype": "text/x-python",
   "name": "python",
   "nbconvert_exporter": "python",
   "pygments_lexer": "ipython3",
   "version": "3.12.7"
  }
 },
 "nbformat": 4,
 "nbformat_minor": 5
}
