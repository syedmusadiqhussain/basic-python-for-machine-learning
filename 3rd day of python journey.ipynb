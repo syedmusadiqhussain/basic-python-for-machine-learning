{
 "cells": [
  {
   "cell_type": "markdown",
   "id": "dbbb1e2d-14f2-4c87-aed8-02369c38e203",
   "metadata": {},
   "source": [
    "## while loop"
   ]
  },
  {
   "cell_type": "code",
   "execution_count": 1,
   "id": "fd626f79-a7b6-418b-9a7a-f8edb1fa08fc",
   "metadata": {},
   "outputs": [
    {
     "name": "stdout",
     "output_type": "stream",
     "text": [
      "1\n",
      "2\n",
      "3\n"
     ]
    }
   ],
   "source": [
    "count = 1\n",
    "while count <= 3:  # Loop runs as long as count is 3 or less\n",
    "    print(count)  # Indented properly inside the loop\n",
    "    count += 1  # Increment count to prevent infinite loop\n"
   ]
  },
  {
   "cell_type": "markdown",
   "id": "d2eb7513-5062-4d0a-8adb-819abe4af2ae",
   "metadata": {},
   "source": [
    "## modelous\n",
    "### EVEN NUMBER PRINT"
   ]
  },
  {
   "cell_type": "code",
   "execution_count": 10,
   "id": "6a67376e-687d-4b4e-ada1-4f57ea0980bf",
   "metadata": {},
   "outputs": [
    {
     "name": "stdout",
     "output_type": "stream",
     "text": [
      "2\n",
      "4\n",
      "6\n",
      "8\n",
      "10\n"
     ]
    }
   ],
   "source": [
    "num = 1\n",
    "while num <= 10:\n",
    "    if num % 2 == 0:  # Check if num is even\n",
    "        print(num)\n",
    "    num += 1  # ✅ Always increment num, even if it's odd\n"
   ]
  },
  {
   "cell_type": "code",
   "execution_count": 1,
   "id": "3c10ac05-c0ca-4984-8241-4f0e33480377",
   "metadata": {},
   "outputs": [
    {
     "name": "stdout",
     "output_type": "stream",
     "text": [
      "2\n"
     ]
    },
    {
     "ename": "KeyboardInterrupt",
     "evalue": "",
     "output_type": "error",
     "traceback": [
      "\u001b[1;31m---------------------------------------------------------------------------\u001b[0m",
      "\u001b[1;31mKeyboardInterrupt\u001b[0m                         Traceback (most recent call last)",
      "Cell \u001b[1;32mIn[1], line 2\u001b[0m\n\u001b[0;32m      1\u001b[0m num\u001b[38;5;241m=\u001b[39m\u001b[38;5;241m2\u001b[39m\n\u001b[1;32m----> 2\u001b[0m \u001b[38;5;28;01mwhile\u001b[39;00m num\u001b[38;5;241m<\u001b[39m\u001b[38;5;241m=\u001b[39m\u001b[38;5;241m10\u001b[39m:\n\u001b[0;32m      3\u001b[0m     \u001b[38;5;28;01mif\u001b[39;00m num\u001b[38;5;241m%\u001b[39m\u001b[38;5;241m2\u001b[39m\u001b[38;5;241m==\u001b[39m\u001b[38;5;241m0\u001b[39m:\n\u001b[0;32m      4\u001b[0m         \u001b[38;5;28mprint\u001b[39m(num)\n",
      "\u001b[1;31mKeyboardInterrupt\u001b[0m: "
     ]
    }
   ],
   "source": [
    "num=2\n",
    "while num<=10:\n",
    "    if num%2==0:\n",
    "        print(num)\n",
    "        num+=1"
   ]
  },
  {
   "cell_type": "code",
   "execution_count": 3,
   "id": "7ecc8aa9-cd69-4686-a5f9-fd6a55c967d9",
   "metadata": {},
   "outputs": [
    {
     "name": "stdin",
     "output_type": "stream",
     "text": [
      "Enter your email ID:  .@gmai.com\n"
     ]
    },
    {
     "name": "stdout",
     "output_type": "stream",
     "text": [
      "Your email ID is valid!\n"
     ]
    }
   ],
   "source": [
    "email = input(\"Enter your email ID: \")\n",
    "valid_email = False\n",
    "\n",
    "while not valid_email:\n",
    "    if \"@\" in email and \".\" in email and email.index(\"@\") < email.rindex(\".\"):\n",
    "        valid_email = True\n",
    "        print(\"Your email ID is valid!\")\n",
    "    else:\n",
    "        print(\"Your email ID is not valid. Try again.\")\n",
    "        email = input(\"Please enter your email ID: \")\n"
   ]
  },
  {
   "cell_type": "code",
   "execution_count": 27,
   "id": "ff3348cd-5de7-4939-ac1a-34138ce295ba",
   "metadata": {},
   "outputs": [
    {
     "name": "stdout",
     "output_type": "stream",
     "text": [
      "the even number: 0\n",
      "the even number: 2\n",
      "the even number: 4\n",
      "the even number: 6\n",
      " the old number: 7\n"
     ]
    }
   ],
   "source": [
    "for i in range (0,8):\n",
    " if i%2==0:\n",
    "  print (\"the even number:\",i)\n",
    "else :\n",
    "  print (\" the old number:\",i)"
   ]
  },
  {
   "cell_type": "code",
   "execution_count": 61,
   "id": "fe8e1c33-e0b1-4957-8655-72e80de259ec",
   "metadata": {},
   "outputs": [
    {
     "name": "stdout",
     "output_type": "stream",
     "text": [
      "Even Number: 0\n",
      "odd number: 1\n",
      "Even Number: 2\n",
      "odd number: 3\n"
     ]
    }
   ],
   "source": [
    "for i in range (0,4):\n",
    "    if i%2==0:\n",
    "        print (\"Even Number:\",i)\n",
    "    else:\n",
    "        print(\"odd number:\",i)\n",
    "        "
   ]
  },
  {
   "cell_type": "code",
   "execution_count": 107,
   "id": "7f385da1-7325-414e-9deb-abe1a0140d92",
   "metadata": {},
   "outputs": [
    {
     "name": "stdin",
     "output_type": "stream",
     "text": [
      "Enter the number that multpile: 3\n"
     ]
    },
    {
     "name": "stdout",
     "output_type": "stream",
     "text": [
      "The multiplication of 3:\n",
      "3 * 1 = 3\n",
      "3 * 2 = 6\n",
      "3 * 3 = 9\n",
      "3 * 4 = 12\n",
      "3 * 5 = 15\n",
      "3 * 6 = 18\n",
      "3 * 7 = 21\n",
      "3 * 8 = 24\n",
      "3 * 9 = 27\n",
      "3 * 10 = 30\n"
     ]
    }
   ],
   "source": [
    "number= int (input(\"Enter the number that multpile:\"))\n",
    "print(f\"The multiplication of {number}:\")\n",
    "\n",
    "# Generate and print the multiplication table\n",
    "for i in range(1, 11):  # Loop from 1 to 10\n",
    "    # print(f\"{number} * {i} =  {number * i}\")\n",
    "    print(f\"{number} * {i} = {number * i }\")"
   ]
  },
  {
   "cell_type": "code",
   "execution_count": null,
   "id": "a2b0a873-e73b-459f-8955-a4b8457554d7",
   "metadata": {},
   "outputs": [],
   "source": []
  },
  {
   "cell_type": "code",
   "execution_count": null,
   "id": "3286546e-c457-48c9-85a6-e463b1ac47fa",
   "metadata": {},
   "outputs": [],
   "source": []
  },
  {
   "cell_type": "code",
   "execution_count": null,
   "id": "105fd74c-e79a-4a3f-a6e7-48842bffb3ae",
   "metadata": {},
   "outputs": [],
   "source": []
  }
 ],
 "metadata": {
  "kernelspec": {
   "display_name": "Python [conda env:base] *",
   "language": "python",
   "name": "conda-base-py"
  },
  "language_info": {
   "codemirror_mode": {
    "name": "ipython",
    "version": 3
   },
   "file_extension": ".py",
   "mimetype": "text/x-python",
   "name": "python",
   "nbconvert_exporter": "python",
   "pygments_lexer": "ipython3",
   "version": "3.12.7"
  }
 },
 "nbformat": 4,
 "nbformat_minor": 5
}
