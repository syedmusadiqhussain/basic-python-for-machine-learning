{
 "cells": [
  {
   "cell_type": "markdown",
   "id": "b8081d29-c33d-4ab5-993d-61f2fb7de3e6",
   "metadata": {},
   "source": [
    "# (starting with the name of allah)"
   ]
  },
  {
   "cell_type": "code",
   "execution_count": 6,
   "id": "e53b69bc-ff70-4fce-9232-8ea38b6292c4",
   "metadata": {},
   "outputs": [
    {
     "name": "stdout",
     "output_type": "stream",
     "text": [
      "hellow syed musadiq\n"
     ]
    }
   ],
   "source": [
    "print(\"hellow syed musadiq\")"
   ]
  },
  {
   "cell_type": "code",
   "execution_count": null,
   "id": "0c25618b-26b3-4a84-a804-dee575ea2775",
   "metadata": {},
   "outputs": [],
   "source": [
    "abs function\n"
   ]
  },
  {
   "cell_type": "code",
   "execution_count": 8,
   "id": "d4f13b6c-9124-4c80-ba2b-c147bd3421dd",
   "metadata": {},
   "outputs": [
    {
     "name": "stdout",
     "output_type": "stream",
     "text": [
      "10\n",
      "5\n",
      "0\n"
     ]
    }
   ],
   "source": [
    "print(abs(-10))  # Output: 10\n",
    "print(abs(5))    # Output: 5\n",
    "print(abs(0))    # Output: 0\n"
   ]
  },
  {
   "cell_type": "code",
   "execution_count": 10,
   "id": "2b19398e-e971-46c9-9667-ea76cd3182a4",
   "metadata": {},
   "outputs": [
    {
     "name": "stdout",
     "output_type": "stream",
     "text": [
      "3\n",
      "3\n"
     ]
    }
   ],
   "source": [
    "print(len([1, 2, 3]))    # Output: 3\n",
    "print(len((10, 20, 30))) # Output: 3"
   ]
  },
  {
   "cell_type": "markdown",
   "id": "71134aee-9b39-4048-8a71-adcd3eae4b86",
   "metadata": {},
   "source": [
    "### Get user input\n",
    "P = float(input(\"Enter the Principal amount: \"))\n",
    "R = float(input(\"Enter the Rate of Interest (per annum): \"))\n",
    "T = float(input(\"Enter the Time (in years): \"))\n",
    "\n",
    "# Calculate Simple Interest\n",
    "SI = (P * R * T) / 100\n",
    "\n",
    "# Display the result\n",
    "print(\"Simple Interest = {SI}\")\n"
   ]
  },
  {
   "cell_type": "code",
   "execution_count": 51,
   "id": "34f350a0-c2b4-4107-b99b-07805627b2b5",
   "metadata": {},
   "outputs": [
    {
     "name": "stdin",
     "output_type": "stream",
     "text": [
      "Enter the Principal amount:  3\n",
      "Enter the Rate of Interest (per annum):  3\n",
      "Enter the Time (in years):  3\n"
     ]
    },
    {
     "name": "stdout",
     "output_type": "stream",
     "text": [
      "Simple Interest = 0.27\n"
     ]
    }
   ],
   "source": [
    "P = float(input(\"Enter the Principal amount: \"))\n",
    "R = float(input(\"Enter the Rate of Interest (per annum): \"))\n",
    "T = float(input(\"Enter the Time (in years): \"))\n",
    "\n",
    "# Calculate Simple Interest\n",
    "SI = (P * R * T) / 100\n",
    "\n",
    "# Display the result\n",
    "print(f\"Simple Interest = {SI}\")  # Using f-string for correct formatting\n"
   ]
  },
  {
   "cell_type": "code",
   "execution_count": 91,
   "id": "82386178-956c-4490-baea-7bd364fa9bfc",
   "metadata": {},
   "outputs": [
    {
     "name": "stdout",
     "output_type": "stream",
     "text": [
      "48\n"
     ]
    }
   ],
   "source": [
    "a=[2,2,3,3]\n",
    "add=38\n",
    "total =sum(a,add)\n",
    "print(total)"
   ]
  },
  {
   "cell_type": "code",
   "execution_count": 101,
   "id": "5274b345-32d1-4875-a3de-5d66a5e86e6a",
   "metadata": {},
   "outputs": [
    {
     "name": "stdout",
     "output_type": "stream",
     "text": [
      "15\n"
     ]
    }
   ],
   "source": [
    "exp=\"3*3+6\"\n",
    "print(eval (exp))"
   ]
  },
  {
   "cell_type": "code",
   "execution_count": 121,
   "id": "bd440c30-730e-4615-9746-ef52cd9a249a",
   "metadata": {},
   "outputs": [
    {
     "name": "stdin",
     "output_type": "stream",
     "text": [
      "Enter the 1st number: 3\n",
      "Enter the 2nd number:  3\n"
     ]
    },
    {
     "name": "stdout",
     "output_type": "stream",
     "text": [
      "The sum of is= 6.0\n"
     ]
    }
   ],
   "source": [
    "num1=float( input(\"Enter the 1st number:\"))\n",
    "num2= float(input(\"Enter the 2nd number: \"))\n",
    "result= num1+num2\n",
    "print(f\"The sum of is= {result}\")\n"
   ]
  },
  {
   "cell_type": "code",
   "execution_count": 27,
   "id": "a617416d-36e6-4cfe-b353-644aba4b1c04",
   "metadata": {},
   "outputs": [
    {
     "name": "stdin",
     "output_type": "stream",
     "text": [
      " Enter your age please  suef ;\\\n"
     ]
    },
    {
     "name": "stdout",
     "output_type": "stream",
     "text": [
      "age of the user is suef ;\\\n",
      "<class 'str'>\n"
     ]
    }
   ],
   "source": [
    "age=input(\" Enter your age please \")\n",
    "print (\"age of the user is\", age )\n",
    "print(type(age))"
   ]
  },
  {
   "cell_type": "code",
   "execution_count": 129,
   "id": "0b8c39af-c6b0-4edb-aa9b-3bde1fbabb74",
   "metadata": {},
   "outputs": [
    {
     "name": "stdin",
     "output_type": "stream",
     "text": [
      "Enter weight in kg:  6\n",
      "Enter height in cm:  7\n",
      "Enter age in years:  7\n"
     ]
    },
    {
     "name": "stdout",
     "output_type": "stream",
     "text": [
      "Your BMR is: 162.45999999999998\n"
     ]
    }
   ],
   "source": [
    "w = input(\"Enter weight in kg: \")\n",
    "h = input(\"Enter height in cm: \")\n",
    "a = input(\"Enter age in years: \")\n",
    "bmr = 88.36 + 13.4*eval(w) + 4.8*eval(h) - 5.7*eval(a)  # For male, modify accordingly for female\n",
    "print(f\"Your BMR is: {bmr}\")\n"
   ]
  },
  {
   "cell_type": "code",
   "execution_count": 131,
   "id": "83c0b23b-7636-4641-b157-9954513392fa",
   "metadata": {},
   "outputs": [
    {
     "name": "stdin",
     "output_type": "stream",
     "text": [
      " Enter the mathmatical expression 3\n"
     ]
    },
    {
     "name": "stdout",
     "output_type": "stream",
     "text": [
      " the result of the expression is  3\n",
      " THANKS FOR PARTICPATING\n"
     ]
    }
   ],
   "source": [
    "expression = input(\" Enter the mathmatical expression\")\n",
    "result= eval (expression)\n",
    "print(\" the result of the expression is \", result)\n",
    "print(\" THANKS FOR PARTICPATING\")"
   ]
  },
  {
   "cell_type": "code",
   "execution_count": 157,
   "id": "64356978-2e12-48b9-b7bf-d4d998c62d2b",
   "metadata": {},
   "outputs": [
    {
     "name": "stdout",
     "output_type": "stream",
     "text": [
      "The new price of the stock is: 260.0\n"
     ]
    },
    {
     "name": "stdin",
     "output_type": "stream",
     "text": [
      "Enter your budget:  8\n"
     ]
    },
    {
     "name": "stdout",
     "output_type": "stream",
     "text": [
      "User budget is greater than new price: False\n"
     ]
    }
   ],
   "source": [
    "stock_symbol = \"xyz\"\n",
    "current_price = 200\n",
    "percentage_change = 30\n",
    "new_price = current_price * (1 + percentage_change / 100)\n",
    "print(\"The new price of the stock is:\", new_price)\n",
    "\n",
    "user_budget = float(input(\"Enter your budget: \"))\n",
    "a = user_budget >= new_price\n",
    "print(\"User budget is greater than new price:\", a)\n"
   ]
  },
  {
   "cell_type": "markdown",
   "id": "c347f384-0b29-4f2c-bb5a-c259be3db6f3",
   "metadata": {},
   "source": [
    "## \"control flow statment\"\n",
    "### if statement"
   ]
  },
  {
   "cell_type": "code",
   "execution_count": 165,
   "id": "078edfb8-a177-4af9-960e-af0cd5450f6f",
   "metadata": {},
   "outputs": [
    {
     "name": "stdout",
     "output_type": "stream",
     "text": [
      "20 is greater than 10\n"
     ]
    }
   ],
   "source": [
    "i=20\n",
    "if i>10:\n",
    "    print(\"20 is greater than 10\")"
   ]
  },
  {
   "cell_type": "code",
   "execution_count": null,
   "id": "4efbc665-2168-4692-96f6-048a993f1a06",
   "metadata": {},
   "outputs": [],
   "source": []
  },
  {
   "cell_type": "code",
   "execution_count": null,
   "id": "bef05355-8478-4a00-890a-28a699780c8b",
   "metadata": {},
   "outputs": [],
   "source": []
  },
  {
   "cell_type": "code",
   "execution_count": null,
   "id": "a3bf8f6f-efea-444e-af84-094154b410c0",
   "metadata": {},
   "outputs": [],
   "source": []
  },
  {
   "cell_type": "code",
   "execution_count": null,
   "id": "b2cdc878-32a2-4712-a2cf-f23fbad0202e",
   "metadata": {},
   "outputs": [],
   "source": []
  },
  {
   "cell_type": "code",
   "execution_count": null,
   "id": "c121b97f-48a8-4449-b5ee-b06769240a2e",
   "metadata": {},
   "outputs": [],
   "source": []
  },
  {
   "cell_type": "code",
   "execution_count": null,
   "id": "f2aac734-18af-42ec-8ee4-b2182a7af729",
   "metadata": {},
   "outputs": [],
   "source": []
  },
  {
   "cell_type": "code",
   "execution_count": null,
   "id": "0fb4bbbb-5378-4d2a-81b0-b57ab198f32a",
   "metadata": {},
   "outputs": [],
   "source": []
  },
  {
   "cell_type": "code",
   "execution_count": null,
   "id": "948f7c55-7bbe-4deb-883a-c4b155f19801",
   "metadata": {},
   "outputs": [],
   "source": []
  },
  {
   "cell_type": "code",
   "execution_count": null,
   "id": "cac19115-c382-4ca4-8b8d-139079b9bc4d",
   "metadata": {},
   "outputs": [],
   "source": []
  },
  {
   "cell_type": "code",
   "execution_count": null,
   "id": "8f4a2849-314e-4dbe-8603-796980ca9ee1",
   "metadata": {},
   "outputs": [],
   "source": []
  },
  {
   "cell_type": "code",
   "execution_count": null,
   "id": "f03a90e1-9136-4dae-bf5c-3277c800bc03",
   "metadata": {},
   "outputs": [],
   "source": []
  },
  {
   "cell_type": "code",
   "execution_count": null,
   "id": "e618fcf8-d59e-49d5-ac23-a03cc3a0b73a",
   "metadata": {},
   "outputs": [],
   "source": []
  },
  {
   "cell_type": "code",
   "execution_count": null,
   "id": "143e468a-bd32-4e50-b2c2-479007a02b10",
   "metadata": {},
   "outputs": [],
   "source": []
  },
  {
   "cell_type": "code",
   "execution_count": null,
   "id": "61ad1137-06f3-4b42-9a3b-34dd82e7df42",
   "metadata": {},
   "outputs": [],
   "source": []
  },
  {
   "cell_type": "code",
   "execution_count": null,
   "id": "8649bf6c-a12b-4437-a99d-324f9ffba5dd",
   "metadata": {},
   "outputs": [],
   "source": []
  },
  {
   "cell_type": "code",
   "execution_count": null,
   "id": "c5efa849-0c29-4d06-a01b-1bb10570a7a6",
   "metadata": {},
   "outputs": [],
   "source": []
  }
 ],
 "metadata": {
  "kernelspec": {
   "display_name": "Python [conda env:base] *",
   "language": "python",
   "name": "conda-base-py"
  },
  "language_info": {
   "codemirror_mode": {
    "name": "ipython",
    "version": 3
   },
   "file_extension": ".py",
   "mimetype": "text/x-python",
   "name": "python",
   "nbconvert_exporter": "python",
   "pygments_lexer": "ipython3",
   "version": "3.12.7"
  }
 },
 "nbformat": 4,
 "nbformat_minor": 5
}
