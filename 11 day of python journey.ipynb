{
 "cells": [
  {
   "cell_type": "markdown",
   "id": "84662a37-b7aa-4610-b525-d382194d714f",
   "metadata": {},
   "source": [
    "# Date = (24/3/2025)        (python journey)"
   ]
  },
  {
   "cell_type": "markdown",
   "id": "a7596781-b5a0-4c3d-b095-4fda02442b4b",
   "metadata": {},
   "source": [
    "# array"
   ]
  },
  {
   "cell_type": "code",
   "execution_count": null,
   "id": "7bbe3a52-8c05-4d2c-b778-a9d04e4b93bf",
   "metadata": {},
   "outputs": [],
   "source": [
    "import numpy as np\n",
    "arr=np.array([1,2,3,4,5])\n",
    "print(arr)\n",
    "print(type(arr))\n",
    "arr=np.array((1,2,3,4,5))\n",
    "print(arr)\n",
    "print(type(arr))\n"
   ]
  },
  {
   "cell_type": "markdown",
   "id": "3d247efd-ef49-441a-96bd-ed70e63492d3",
   "metadata": {},
   "source": [
    "# Dimension in array"
   ]
  },
  {
   "cell_type": "code",
   "execution_count": 27,
   "id": "8e951c37-b664-402e-8b1c-e73fca738a63",
   "metadata": {},
   "outputs": [
    {
     "name": "stdout",
     "output_type": "stream",
     "text": [
      "20\n",
      "<class 'numpy.ndarray'>\n",
      "0\n"
     ]
    }
   ],
   "source": [
    "import numpy as np\n",
    "arr=np.array(20)\n",
    "print(arr)\n",
    "print(type(arr))\n",
    "print(arr.ndim)\n"
   ]
  },
  {
   "cell_type": "markdown",
   "id": "d97831c9-2ea5-4843-a490-caebb320cb79",
   "metadata": {},
   "source": [
    "# One dimension code"
   ]
  },
  {
   "cell_type": "code",
   "execution_count": 25,
   "id": "b52c6a08-5a12-47d3-81e4-ae4a8ecbeebe",
   "metadata": {},
   "outputs": [
    {
     "name": "stdout",
     "output_type": "stream",
     "text": [
      "[10 20 30 40 50]\n",
      "<class 'numpy.ndarray'>\n",
      "1\n"
     ]
    }
   ],
   "source": [
    "import numpy as np\n",
    "arr=np.array([10,20,30,40,50])\n",
    "print(arr)\n",
    "print(type(arr))\n",
    "print(arr.ndim)\n"
   ]
  },
  {
   "cell_type": "markdown",
   "id": "1c313f54-4cc2-46c4-9093-e7b9151c3565",
   "metadata": {},
   "source": [
    "# 2D array"
   ]
  },
  {
   "cell_type": "code",
   "execution_count": 23,
   "id": "683a546e-ae3e-49ba-82fb-0cb5b7b13847",
   "metadata": {},
   "outputs": [
    {
     "name": "stdout",
     "output_type": "stream",
     "text": [
      "[[1 2 3]\n",
      " [4 5 6]]\n",
      "<class 'numpy.ndarray'>\n",
      "2\n"
     ]
    }
   ],
   "source": [
    "import numpy as np\n",
    "arr=np.array([[1,2,3],[4,5,6]])\n",
    "print(arr)\n",
    "print(type(arr))\n",
    "print(arr.ndim)\n"
   ]
  },
  {
   "cell_type": "markdown",
   "id": "92b81227-95fa-4962-9555-c6c38b3ad1f4",
   "metadata": {},
   "source": [
    "# 3D arry "
   ]
  },
  {
   "cell_type": "code",
   "execution_count": 21,
   "id": "06345046-9129-430b-ae57-042bf5321449",
   "metadata": {},
   "outputs": [
    {
     "name": "stdout",
     "output_type": "stream",
     "text": [
      "[[[ 1  2  3]\n",
      "  [ 4  5  6]]\n",
      "\n",
      " [[ 7  8  9]\n",
      "  [10 11 12]]]\n",
      "<class 'numpy.ndarray'>\n",
      "3\n",
      "Shape of array: (2, 2, 3)\n"
     ]
    }
   ],
   "source": [
    "import numpy as np\n",
    "\n",
    "arr = np.array([[[1, 2, 3], [4, 5, 6]],\n",
    "                [[7, 8, 9], [10, 11, 12]]])\n",
    "\n",
    "print(arr)\n",
    "print(type(arr))\n",
    "print(arr.ndim)\n",
    "print(\"Shape of array:\", arr.shape)\n"
   ]
  },
  {
   "cell_type": "markdown",
   "id": "784d7011-0e04-4e93-815d-e125ec18ffbd",
   "metadata": {},
   "source": [
    "# check number of dimension"
   ]
  },
  {
   "cell_type": "code",
   "execution_count": 30,
   "id": "749e7a3e-6e34-40f0-b41c-3a5d79f5dbd7",
   "metadata": {},
   "outputs": [
    {
     "name": "stdout",
     "output_type": "stream",
     "text": [
      "1\n",
      "2\n",
      "3\n"
     ]
    }
   ],
   "source": [
    "import numpy as np\n",
    "\n",
    "arr1=np.array([1,2,3,4,5])                 # 1D array\n",
    "arr2=np.array([[1,2,3],[4,5,6]])           # 2D array\n",
    "arr3=np.array([[[1,2],[3,4]],[[5,6],[7,8]]]) # 3D array\n",
    "\n",
    "print(arr1.ndim)  # Output: 1\n",
    "print(arr2.ndim)  # Output: 2\n",
    "print(arr3.ndim)  # Output: 3\n"
   ]
  },
  {
   "cell_type": "markdown",
   "id": "0d5f06d1-5c3d-41b9-8b73-accaefe636e4",
   "metadata": {},
   "source": [
    "# creating 5d aray and verify it"
   ]
  },
  {
   "cell_type": "code",
   "execution_count": 52,
   "id": "f274f4c2-4106-4157-9041-efc962980ced",
   "metadata": {},
   "outputs": [
    {
     "name": "stdout",
     "output_type": "stream",
     "text": [
      "[[[[[0.51542658 0.65714978]\n",
      "    [0.21146642 0.85238769]]\n",
      "\n",
      "   [[0.53907405 0.89046516]\n",
      "    [0.19097453 0.62705954]]]\n",
      "\n",
      "\n",
      "  [[[0.88929407 0.14394568]\n",
      "    [0.61443025 0.2178194 ]]\n",
      "\n",
      "   [[0.92930545 0.02165852]\n",
      "    [0.95711261 0.25947249]]]]\n",
      "\n",
      "\n",
      "\n",
      " [[[[0.55220671 0.30476264]\n",
      "    [0.14196756 0.91410289]]\n",
      "\n",
      "   [[0.43805721 0.13620044]\n",
      "    [0.50599975 0.1264532 ]]]\n",
      "\n",
      "\n",
      "  [[[0.31526367 0.3485594 ]\n",
      "    [0.00467695 0.89734036]]\n",
      "\n",
      "   [[0.21517624 0.42477528]\n",
      "    [0.14522525 0.98183583]]]]]\n",
      "Number of dimensions: 5\n",
      "Shape of the array: (2, 2, 2, 2, 2)\n",
      "[[[[0.51542658 0.65714978]\n",
      "   [0.21146642 0.85238769]]\n",
      "\n",
      "  [[0.53907405 0.89046516]\n",
      "   [0.19097453 0.62705954]]]\n",
      "\n",
      "\n",
      " [[[0.88929407 0.14394568]\n",
      "   [0.61443025 0.2178194 ]]\n",
      "\n",
      "  [[0.92930545 0.02165852]\n",
      "   [0.95711261 0.25947249]]]]\n"
     ]
    }
   ],
   "source": [
    "import numpy as np\n",
    "\n",
    "arr = np.random.rand(2, 2, 2, 2, 2)  # Creating a 5D array\n",
    "print(arr)\n",
    "print(\"Number of dimensions:\", arr.ndim)  # Verifying the number of dimensions\n",
    "print(\"Shape of the array:\", arr.shape) \n",
    "print(arr[0])# Verifying the shape of the array\n"
   ]
  },
  {
   "cell_type": "markdown",
   "id": "4fd62527-8ba0-457b-9d22-ceb6fff24bbc",
   "metadata": {},
   "source": [
    "# indexing of the array"
   ]
  },
  {
   "cell_type": "code",
   "execution_count": 50,
   "id": "3f091942-2d98-4120-8289-90c404abce80",
   "metadata": {},
   "outputs": [
    {
     "name": "stdout",
     "output_type": "stream",
     "text": [
      "1\n"
     ]
    }
   ],
   "source": [
    "import numpy as np\n",
    "\n",
    "arr = np.array([1, 2, 3, 4])\n",
    "print(arr[0])\n"
   ]
  },
  {
   "cell_type": "markdown",
   "id": "4a3e26ff-b31a-4ac7-a478-2f484cbdd04b",
   "metadata": {},
   "source": [
    "# (indexing and their sum)"
   ]
  },
  {
   "cell_type": "markdown",
   "id": "43a4d9bc-84dd-46e4-bd23-1efe70604353",
   "metadata": {},
   "source": [
    "# first row indexing "
   ]
  },
  {
   "cell_type": "code",
   "execution_count": 54,
   "id": "8e650e08-db07-46c3-8c56-eaf32feb97c9",
   "metadata": {},
   "outputs": [
    {
     "name": "stdout",
     "output_type": "stream",
     "text": [
      "The third element is: 34.0\n",
      "The sixth element is: 90.0\n",
      "The 8th element is: 10.0\n",
      "Sum of these elements is: 134.0\n"
     ]
    }
   ],
   "source": [
    "import numpy as np\n",
    "\n",
    "m = np.array([41, 87, 34, 56.8, 39.23, 90, 15, 10, 19, 56])\n",
    "\n",
    "print(\"The third element is:\", m[2])\n",
    "print(\"The sixth element is:\", m[5])\n",
    "print(\"The 8th element is:\", m[7])\n",
    "print(\"Sum of these elements is:\", m[2] + m[5] + m[7])\n"
   ]
  },
  {
   "cell_type": "markdown",
   "id": "a3bf18a0-2d51-4100-9b14-168ea18d5311",
   "metadata": {},
   "source": [
    "# basic indexing "
   ]
  },
  {
   "cell_type": "code",
   "execution_count": 11,
   "id": "b710049c-b8ff-4795-bf82-7e88bab8734a",
   "metadata": {},
   "outputs": [
    {
     "name": "stdout",
     "output_type": "stream",
     "text": [
      "Second row: [70 80 90]\n"
     ]
    }
   ],
   "source": [
    "import numpy as np\n",
    "\n",
    "# Creating a 2D array\n",
    "arr = np.array([[10, 20, 30],\n",
    "                [40, 50, 60],\n",
    "                [70, 80, 90]])\n",
    "\n",
    "# Accessing the 2nd row (index 1, since indexing starts at 0)\n",
    "second_row = arr[2]\n",
    "print(\"Second row:\", second_row)\n"
   ]
  },
  {
   "cell_type": "code",
   "execution_count": 78,
   "id": "fe71e89c-2412-4c29-9ef1-f785d0aa3eaf",
   "metadata": {},
   "outputs": [
    {
     "name": "stdout",
     "output_type": "stream",
     "text": [
      "[[12  3  3]\n",
      " [39 34  4]\n",
      " [22 29 32]]\n",
      "second row: [22 29 32]\n"
     ]
    }
   ],
   "source": [
    "import numpy as np\n",
    "arr=np.array ([[12,3,3],\n",
    "               [39,34,4],\n",
    "               [22,29,32]])\n",
    "print(arr)\n",
    "second_row=arr[2]\n",
    "print(\"second row:\", second_row)"
   ]
  },
  {
   "cell_type": "markdown",
   "id": "0b02ad37-3cc9-4798-bdd2-29e6e8d72280",
   "metadata": {},
   "source": [
    "# 2D Array Indexing"
   ]
  },
  {
   "cell_type": "code",
   "execution_count": 86,
   "id": "49a4aaf3-d068-43f3-9e0f-d9f05e08ab80",
   "metadata": {},
   "outputs": [
    {
     "name": "stdout",
     "output_type": "stream",
     "text": [
      "Element at 2nd row, 3rd column: 8\n"
     ]
    }
   ],
   "source": [
    "arr = np.array([[1, 2, 3],\n",
    "                [4, 5, 6],\n",
    "                [7, 8, 9]])\n",
    "\n",
    "print(\"Element at 2nd row, 3rd column:\", arr[2, 1])  # 6\n",
    "\n"
   ]
  },
  {
   "cell_type": "markdown",
   "id": "35060d6f-f3e9-44c1-938a-222fe83ddea8",
   "metadata": {},
   "source": [
    "# Slicing in Arrays"
   ]
  },
  {
   "cell_type": "code",
   "execution_count": 89,
   "id": "8a8777b6-8019-4463-917e-f7e2cef6170f",
   "metadata": {},
   "outputs": [
    {
     "name": "stdout",
     "output_type": "stream",
     "text": [
      "Elements from index 1 to 4: [20 30 40 50]\n",
      "Every second element: [10 30 50 70]\n",
      "Reverse array: [70 60 50 40 30 20 10]\n"
     ]
    }
   ],
   "source": [
    "arr = np.array([10, 20, 30, 40, 50, 60, 70])\n",
    "\n",
    "print(\"Elements from index 1 to 4:\", arr[1:5])\n",
    "print(\"Every second element:\", arr[::2])\n",
    "print(\"Reverse array:\", arr[::-1])\n"
   ]
  },
  {
   "cell_type": "markdown",
   "id": "d5bd7937-8e39-4319-9fdd-7b3945248953",
   "metadata": {},
   "source": [
    "#  Boolean Indexing"
   ]
  },
  {
   "cell_type": "code",
   "execution_count": null,
   "id": "c9b87de4-fea8-48b7-ac80-f5b58c1c38e3",
   "metadata": {},
   "outputs": [],
   "source": [
    "arr = np.array([10, 20, 30, 40, 50])\n",
    "print(\"Elements greater than 25:\", arr[arr > 25])\n"
   ]
  },
  {
   "cell_type": "markdown",
   "id": "c0a5f319-7c57-4b42-bacb-7ea9329a76ba",
   "metadata": {},
   "source": [
    "# Fancy Indexing\n"
   ]
  },
  {
   "cell_type": "code",
   "execution_count": null,
   "id": "0b17dea6-2682-4656-b7c2-a54bdda3495e",
   "metadata": {},
   "outputs": [],
   "source": [
    "arr = np.array([10, 20, 30, 40, 50])\n",
    "print(\"Selected elements:\", arr[[0, 2, 4]])  # 10, 30, 50\n"
   ]
  },
  {
   "cell_type": "markdown",
   "id": "d75a43f7-6983-4bfb-9383-6edabdbce8f0",
   "metadata": {},
   "source": [
    "# 3D Array Indexing"
   ]
  },
  {
   "cell_type": "code",
   "execution_count": null,
   "id": "9f8a3bf3-f590-4541-9654-c95fd3ce6ff8",
   "metadata": {},
   "outputs": [],
   "source": [
    "arr = np.array([[[1, 2], [3, 4]], \n",
    "                [[5, 6], [7, 8]]])\n",
    "\n",
    "print(\"Element at [1, 0, 1]:\", arr[1, 0, 1])  # 6\n"
   ]
  },
  {
   "cell_type": "markdown",
   "id": "8899f2c7-6980-4145-b87f-1606c2c0bbd0",
   "metadata": {},
   "source": [
    "# Conditional Replacement using Indexing"
   ]
  },
  {
   "cell_type": "code",
   "execution_count": 13,
   "id": "9079ff2a-ad7a-4b71-96ba-6d4673f7a0a9",
   "metadata": {},
   "outputs": [
    {
     "name": "stdout",
     "output_type": "stream",
     "text": [
      "Modified array: [10 20 30 99 99]\n"
     ]
    }
   ],
   "source": [
    "arr = np.array([10, 20, 30, 40, 50])\n",
    "arr[arr > 30] = 99\n",
    "print(\"Modified array:\", arr)\n"
   ]
  },
  {
   "cell_type": "markdown",
   "id": "02c06144-3fc9-4b36-8048-4a88c5a7639c",
   "metadata": {},
   "source": [
    "# Indexing with np.where()"
   ]
  },
  {
   "cell_type": "code",
   "execution_count": null,
   "id": "8c0e4974-16e3-4141-bb1e-231487933542",
   "metadata": {},
   "outputs": [],
   "source": [
    "arr = np.array([10, 20, 30, 40, 50])\n",
    "indices = np.where(arr > 25)\n",
    "print(\"Indices where elements > 25:\", indices)\n"
   ]
  },
  {
   "cell_type": "markdown",
   "id": "74b06ca0-4a8c-470e-82a1-c68a5d15deb0",
   "metadata": {},
   "source": [
    "# Multi-dimensional Slicing"
   ]
  },
  {
   "cell_type": "code",
   "execution_count": null,
   "id": "b63c7628-c79e-4e38-bde4-f8ca09a43ee3",
   "metadata": {},
   "outputs": [],
   "source": [
    "arr = np.array([[1, 2, 3, 4],\n",
    "                [5, 6, 7, 8],\n",
    "                [9, 10, 11, 12]])\n",
    "\n",
    "print(\"Submatrix:\\n\", arr[0:2, 1:3])\n"
   ]
  },
  {
   "cell_type": "markdown",
   "id": "1ce5e95c-4f2a-4a4b-bf6b-fb5ae3700e97",
   "metadata": {},
   "source": [
    "# Using Ellipsis (...) in Indexing"
   ]
  },
  {
   "cell_type": "code",
   "execution_count": 15,
   "id": "3b783341-945b-46a4-868b-fd43981edd51",
   "metadata": {},
   "outputs": [
    {
     "name": "stdout",
     "output_type": "stream",
     "text": [
      "[[0.37959079 0.02596382 0.44098245]\n",
      " [0.44222148 0.79914995 0.30881625]]\n"
     ]
    }
   ],
   "source": [
    "arr = np.random.rand(2, 3, 4)\n",
    "print(arr[..., 0])  # Selects all elements along the last dimension's first index\n"
   ]
  },
  {
   "cell_type": "markdown",
   "id": "72caf737-2656-4893-93f6-b927f1ce5c05",
   "metadata": {},
   "source": [
    "# check data in numpay"
   ]
  },
  {
   "cell_type": "code",
   "execution_count": 18,
   "id": "cc653a4d-f66f-410e-9715-716beee6a23c",
   "metadata": {},
   "outputs": [
    {
     "name": "stdout",
     "output_type": "stream",
     "text": [
      "Array:\n",
      " [[[1 2]\n",
      "  [3 4]]\n",
      "\n",
      " [[5 6]\n",
      "  [7 8]]]\n",
      "\n",
      "Shape of the array: (2, 2, 2)\n",
      "Number of dimensions: 3\n",
      "Total number of elements: 8\n",
      "Data type of elements: int32\n",
      "Size of each element (bytes): 4\n",
      "Total bytes consumed by the array: 32\n",
      "Flattened array: [1, 2, 3, 4, 5, 6, 7, 8]\n"
     ]
    }
   ],
   "source": [
    "import numpy as np\n",
    "\n",
    "# Creating a 3D array\n",
    "arr = np.array([\n",
    "    [[1, 2], \n",
    "     [3, 4]],\n",
    "\n",
    "    [[5, 6], \n",
    "     [7, 8]]\n",
    "])\n",
    "\n",
    "# Checking array data\n",
    "print(\"Array:\\n\", arr)\n",
    "print(\"\\nShape of the array:\", arr.shape)           # (2, 2, 2) - 2 blocks, 2 rows, 2 columns\n",
    "print(\"Number of dimensions:\", arr.ndim)           # 3 dimensions\n",
    "print(\"Total number of elements:\", arr.size)       # 8 elements\n",
    "print(\"Data type of elements:\", arr.dtype)         # int64 (default integer type)\n",
    "print(\"Size of each element (bytes):\", arr.itemsize)  # Size in bytes per element\n",
    "print(\"Total bytes consumed by the array:\", arr.nbytes) # Total memory in bytes\n",
    "print(\"Flattened array:\", list(arr.flat))          # Flattened view of the array\n"
   ]
  },
  {
   "cell_type": "code",
   "execution_count": null,
   "id": "5ddeb12d-0fe4-4097-9c1e-ca8217d30241",
   "metadata": {},
   "outputs": [],
   "source": []
  }
 ],
 "metadata": {
  "kernelspec": {
   "display_name": "Python [conda env:base] *",
   "language": "python",
   "name": "conda-base-py"
  },
  "language_info": {
   "codemirror_mode": {
    "name": "ipython",
    "version": 3
   },
   "file_extension": ".py",
   "mimetype": "text/x-python",
   "name": "python",
   "nbconvert_exporter": "python",
   "pygments_lexer": "ipython3",
   "version": "3.12.7"
  },
  "panel-cell-order": [
   "953e9195-beda-4893-b451-7abebf8a4d2d"
  ]
 },
 "nbformat": 4,
 "nbformat_minor": 5
}
