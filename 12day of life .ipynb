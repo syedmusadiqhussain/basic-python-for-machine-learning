{
 "cells": [
  {
   "cell_type": "markdown",
   "id": "3b0f4766-327d-4573-9c48-8c123644ff3a",
   "metadata": {},
   "source": [
    "# Python journey Date 26/2/2025"
   ]
  },
  {
   "cell_type": "code",
   "execution_count": 32,
   "id": "c1afe172-c32b-436e-9c77-e6c6bc1d1ad2",
   "metadata": {},
   "outputs": [
    {
     "name": "stdout",
     "output_type": "stream",
     "text": [
      "Shape of the array: (3, 4)\n"
     ]
    }
   ],
   "source": [
    "import numpy as np\n",
    "\n",
    "# Create a NumPy array\n",
    "arr = np.array([[1, 2, 3, 4],\n",
    "                [5, 6, 7, 8],\n",
    "                [9, 10, 11, 12]])\n",
    "\n",
    "# Print the shape of the array\n",
    "print(\"Shape of the array:\", arr.shape)\n"
   ]
  },
  {
   "cell_type": "markdown",
   "id": "cc5fa410-fcb0-4151-aabc-838465cf68b4",
   "metadata": {},
   "source": [
    "# joining the numpy array"
   ]
  },
  {
   "cell_type": "code",
   "execution_count": 36,
   "id": "088c3d31-6de5-4b35-90ee-ba3a201a986d",
   "metadata": {},
   "outputs": [
    {
     "name": "stdout",
     "output_type": "stream",
     "text": [
      "Joined array: [1 2 3 4 5 6]\n"
     ]
    }
   ],
   "source": [
    "import numpy as np\n",
    "\n",
    "arr1 = np.array([1, 2, 3])\n",
    "arr2 = np.array([4, 5, 6])\n",
    "\n",
    "joined = np.concatenate((arr1, arr2))\n",
    "print(\"Joined array:\", joined)\n"
   ]
  },
  {
   "cell_type": "markdown",
   "id": "2dc590ea-c2bd-4be8-b1c6-7c620e236c79",
   "metadata": {},
   "source": [
    "# joining the numpy array 2d"
   ]
  },
  {
   "cell_type": "code",
   "execution_count": 39,
   "id": "d9d529fa-33c7-41fe-a7cb-cdeaacfc6200",
   "metadata": {},
   "outputs": [
    {
     "name": "stdout",
     "output_type": "stream",
     "text": [
      "Vertical Join:\n",
      " [[ 1  2  3]\n",
      " [ 4  5  6]\n",
      " [ 7  8  9]\n",
      " [10 11 12]]\n",
      "Horizontal Join:\n",
      " [[ 1  2  3  7  8  9]\n",
      " [ 4  5  6 10 11 12]]\n"
     ]
    }
   ],
   "source": [
    "import numpy as np\n",
    "\n",
    "arr1 = np.array([[1, 2, 3],\n",
    "                 [4, 5, 6]])\n",
    "\n",
    "arr2 = np.array([[7, 8, 9],\n",
    "                 [10, 11, 12]])\n",
    "\n",
    "# Join vertically (row-wise) → axis=0\n",
    "vertical_join = np.concatenate((arr1, arr2), axis=0)\n",
    "print(\"Vertical Join:\\n\", vertical_join)\n",
    "\n",
    "# Join horizontally (column-wise) → axis=1\n",
    "horizontal_join = np.concatenate((arr1, arr2), axis=1)\n",
    "print(\"Horizontal Join:\\n\", horizontal_join)\n"
   ]
  },
  {
   "cell_type": "code",
   "execution_count": 51,
   "id": "9260fea7-e5cd-45a8-b156-91469b5f2e41",
   "metadata": {},
   "outputs": [
    {
     "name": "stdout",
     "output_type": "stream",
     "text": [
      "[array([1]), array([2]), array([3]), array([4]), array([5]), array([6])]\n"
     ]
    }
   ],
   "source": [
    "import numpy as np\n",
    "\n",
    "# Create a NumPy array\n",
    "arr = np.array([1, 2, 3, 4, 5, 6])\n",
    "\n",
    "# Split the array into 4 parts\n",
    "newarr = np.array_split(arr, 6)\n",
    "\n",
    "# Print the split arrays\n",
    "print(newarr)\n"
   ]
  },
  {
   "cell_type": "code",
   "execution_count": 53,
   "id": "2f4f13a5-b751-4d92-884a-c46f0e9ceb1f",
   "metadata": {},
   "outputs": [
    {
     "name": "stdout",
     "output_type": "stream",
     "text": [
      "[array([2]), array([2]), array([2]), array([2]), array([2]), array([], dtype=int32), array([], dtype=int32), array([], dtype=int32)]\n"
     ]
    }
   ],
   "source": [
    "import numpy as np\n",
    "arr= np.array([2,2,2,2,2])\n",
    "newarr= np.array_split(arr,8)\n",
    "print(newarr)"
   ]
  },
  {
   "cell_type": "markdown",
   "id": "f9571851-7566-48e9-9f9f-5b2f7d2240d9",
   "metadata": {},
   "source": [
    "# ravel and flatten"
   ]
  },
  {
   "cell_type": "code",
   "execution_count": 57,
   "id": "c6048f81-4d29-4c8e-9218-288555cc1925",
   "metadata": {},
   "outputs": [
    {
     "name": "stdout",
     "output_type": "stream",
     "text": [
      "Original Array:\n",
      " [[1 2 3]\n",
      " [4 5 6]]\n",
      "Raveled Array:\n",
      " [1 2 3 4 5 6]\n"
     ]
    }
   ],
   "source": [
    "import numpy as np\n",
    "\n",
    "# 2D array\n",
    "arr = np.array([[1, 2, 3], [4, 5, 6]])\n",
    "\n",
    "# Ravel the array\n",
    "raveled_arr = arr.ravel()\n",
    "\n",
    "print(\"Original Array:\\n\", arr)\n",
    "print(\"Raveled Array:\\n\", raveled_arr)\n"
   ]
  },
  {
   "cell_type": "markdown",
   "id": "36f1d3e6-a8eb-4f5c-806d-8556ba26e79f",
   "metadata": {},
   "source": [
    "# unique function "
   ]
  },
  {
   "cell_type": "code",
   "execution_count": 60,
   "id": "92b715c2-1bdf-455f-b508-e1df71f74f5e",
   "metadata": {},
   "outputs": [
    {
     "name": "stdout",
     "output_type": "stream",
     "text": [
      "Unique elements: [1 2 3 4 5]\n"
     ]
    }
   ],
   "source": [
    "import numpy as np\n",
    "\n",
    "arr = np.array([1, 2, 2, 3, 4, 4, 4, 5])\n",
    "unique_elements = np.unique(arr)\n",
    "\n",
    "print(\"Unique elements:\", unique_elements)\n"
   ]
  },
  {
   "cell_type": "code",
   "execution_count": 62,
   "id": "15f90e75-39e8-4420-8485-a1ce87d2ab48",
   "metadata": {},
   "outputs": [
    {
     "name": "stdout",
     "output_type": "stream",
     "text": [
      "Unique elements: [2 3 4]\n"
     ]
    }
   ],
   "source": [
    "arr=np.array([2,3,4,4])\n",
    "unique_function=np.unique(arr)\n",
    "print(\"Unique elements:\", unique_function)"
   ]
  },
  {
   "cell_type": "code",
   "execution_count": null,
   "id": "ef334259-0be4-45ed-861c-ccb2f1a7b1e7",
   "metadata": {},
   "outputs": [],
   "source": []
  },
  {
   "cell_type": "code",
   "execution_count": null,
   "id": "faf47438-2a2e-4526-8044-5f4e9fea236d",
   "metadata": {},
   "outputs": [],
   "source": []
  },
  {
   "cell_type": "code",
   "execution_count": null,
   "id": "3c143dc0-1d8b-4243-9409-320c7c5ee116",
   "metadata": {},
   "outputs": [],
   "source": []
  },
  {
   "cell_type": "code",
   "execution_count": null,
   "id": "e667f213-e7bc-4452-adde-330c8c701d16",
   "metadata": {},
   "outputs": [],
   "source": []
  },
  {
   "cell_type": "code",
   "execution_count": null,
   "id": "69ac1bb9-4ed0-4375-9a23-95bdbf18e91c",
   "metadata": {},
   "outputs": [],
   "source": []
  },
  {
   "cell_type": "code",
   "execution_count": null,
   "id": "500df0ce-7a3a-4a9a-ab46-9303a081c749",
   "metadata": {},
   "outputs": [],
   "source": []
  },
  {
   "cell_type": "code",
   "execution_count": null,
   "id": "5a700692-de4b-483a-a33f-9168d042ecce",
   "metadata": {},
   "outputs": [],
   "source": []
  },
  {
   "cell_type": "code",
   "execution_count": null,
   "id": "29a0f921-7874-48eb-9513-efe9e1a1505b",
   "metadata": {},
   "outputs": [],
   "source": []
  },
  {
   "cell_type": "code",
   "execution_count": null,
   "id": "d5ab2acb-4c52-4c06-afcf-bf1d6b67ae17",
   "metadata": {},
   "outputs": [],
   "source": []
  },
  {
   "cell_type": "code",
   "execution_count": null,
   "id": "7cf22dd8-51c8-43a8-8c47-a38e4eb9c1e8",
   "metadata": {},
   "outputs": [],
   "source": []
  },
  {
   "cell_type": "code",
   "execution_count": null,
   "id": "7767d951-a942-430e-a59c-6bfa3eeef927",
   "metadata": {},
   "outputs": [],
   "source": []
  },
  {
   "cell_type": "code",
   "execution_count": null,
   "id": "3ee200f9-3238-4cbf-9526-4f04204e080e",
   "metadata": {},
   "outputs": [],
   "source": []
  },
  {
   "cell_type": "code",
   "execution_count": null,
   "id": "f9ee7e89-6c46-4be5-8e60-5ba0d53d104d",
   "metadata": {},
   "outputs": [],
   "source": []
  },
  {
   "cell_type": "code",
   "execution_count": null,
   "id": "35272db6-5ee3-4d04-a0ea-72e473228258",
   "metadata": {},
   "outputs": [],
   "source": []
  }
 ],
 "metadata": {
  "kernelspec": {
   "display_name": "Python [conda env:base] *",
   "language": "python",
   "name": "conda-base-py"
  },
  "language_info": {
   "codemirror_mode": {
    "name": "ipython",
    "version": 3
   },
   "file_extension": ".py",
   "mimetype": "text/x-python",
   "name": "python",
   "nbconvert_exporter": "python",
   "pygments_lexer": "ipython3",
   "version": "3.12.7"
  }
 },
 "nbformat": 4,
 "nbformat_minor": 5
}
