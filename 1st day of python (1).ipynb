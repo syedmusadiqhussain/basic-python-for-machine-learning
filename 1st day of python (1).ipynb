{
 "cells": [
  {
   "cell_type": "markdown",
   "id": "8ad3367f-dc54-4730-ae03-6e92ce70a072",
   "metadata": {},
   "source": [
    "# first day of my coding journey"
   ]
  },
  {
   "cell_type": "code",
   "execution_count": 2,
   "id": "28fd3c22-4097-40e1-94f3-a84973575bf2",
   "metadata": {},
   "outputs": [
    {
     "name": "stdout",
     "output_type": "stream",
     "text": [
      "hellow world\n"
     ]
    }
   ],
   "source": [
    "print (\"hellow world\") #this python world"
   ]
  },
  {
   "cell_type": "markdown",
   "id": "d2e4abe6-4313-4ad8-af1e-c3585d77530d",
   "metadata": {},
   "source": [
    "# Name rules for variable "
   ]
  },
  {
   "cell_type": "code",
   "execution_count": 4,
   "id": "213637bd-ee1c-4fcd-858c-dd7bfdb1d153",
   "metadata": {},
   "outputs": [
    {
     "name": "stdout",
     "output_type": "stream",
     "text": [
      "23\n"
     ]
    }
   ],
   "source": [
    "apple= 23\n",
    "print (apple)"
   ]
  },
  {
   "cell_type": "code",
   "execution_count": 6,
   "id": "6154163a-bd6a-4379-a140-bbde76468f30",
   "metadata": {},
   "outputs": [
    {
     "name": "stdout",
     "output_type": "stream",
     "text": [
      "2.3\n"
     ]
    }
   ],
   "source": [
    "apple_box= 2.3\n",
    "print (apple_box)"
   ]
  },
  {
   "cell_type": "code",
   "execution_count": 8,
   "id": "43d406c7-e58c-4bb0-b384-f7435c8094c3",
   "metadata": {},
   "outputs": [
    {
     "name": "stdout",
     "output_type": "stream",
     "text": [
      "4\n"
     ]
    }
   ],
   "source": [
    "_=4\n",
    "print (_)"
   ]
  },
  {
   "cell_type": "markdown",
   "id": "4156a674-50fb-4927-b040-32283598eec7",
   "metadata": {},
   "source": [
    "## A VARIABLE NAME CANNNOT START WITH NUMBER\n"
   ]
  },
  {
   "cell_type": "code",
   "execution_count": 28,
   "id": "7e0a012e-73fe-487a-88de-0c2fef3095ba",
   "metadata": {},
   "outputs": [
    {
     "ename": "SyntaxError",
     "evalue": "cannot assign to literal here. Maybe you meant '==' instead of '='? (2206421804.py, line 1)",
     "output_type": "error",
     "traceback": [
      "\u001b[1;36m  Cell \u001b[1;32mIn[28], line 1\u001b[1;36m\u001b[0m\n\u001b[1;33m    1=3\u001b[0m\n\u001b[1;37m    ^\u001b[0m\n\u001b[1;31mSyntaxError\u001b[0m\u001b[1;31m:\u001b[0m cannot assign to literal here. Maybe you meant '==' instead of '='?\n"
     ]
    }
   ],
   "source": [
    "1=3\n",
    "print(1)"
   ]
  },
  {
   "cell_type": "code",
   "execution_count": 26,
   "id": "7cecd628-dca5-4916-b75b-a8825367aac3",
   "metadata": {},
   "outputs": [
    {
     "name": "stdout",
     "output_type": "stream",
     "text": [
      "1\n"
     ]
    }
   ],
   "source": [
    "1==3\n",
    "print (1)"
   ]
  },
  {
   "cell_type": "code",
   "execution_count": 24,
   "id": "f6a0e6fb-b28f-4144-900d-cb90bb9c6c7a",
   "metadata": {},
   "outputs": [
    {
     "ename": "SyntaxError",
     "evalue": "invalid decimal literal (3850338940.py, line 1)",
     "output_type": "error",
     "traceback": [
      "\u001b[1;36m  Cell \u001b[1;32mIn[24], line 1\u001b[1;36m\u001b[0m\n\u001b[1;33m    1_apple=3\u001b[0m\n\u001b[1;37m     ^\u001b[0m\n\u001b[1;31mSyntaxError\u001b[0m\u001b[1;31m:\u001b[0m invalid decimal literal\n"
     ]
    }
   ],
   "source": [
    "1_apple=3\n",
    "print (1_apple)"
   ]
  },
  {
   "cell_type": "code",
   "execution_count": 22,
   "id": "fde566f3-204f-4381-a000-ea9c07cd095b",
   "metadata": {},
   "outputs": [
    {
     "name": "stdout",
     "output_type": "stream",
     "text": [
      "3\n"
     ]
    }
   ],
   "source": [
    "apple_2=3\n",
    "print (apple_2)"
   ]
  },
  {
   "cell_type": "raw",
   "id": "45e2e7e8-8ac2-4aeb-9d20-ad466f131d92",
   "metadata": {},
   "source": [
    "a variable name is aplha numeric charters"
   ]
  },
  {
   "cell_type": "code",
   "execution_count": 20,
   "id": "7f297c79-1ed4-4750-82e2-67a515b13616",
   "metadata": {},
   "outputs": [
    {
     "name": "stdout",
     "output_type": "stream",
     "text": [
      "2\n"
     ]
    }
   ],
   "source": [
    "abc123mn=2\n",
    "print(abc123mn)"
   ]
  },
  {
   "cell_type": "code",
   "execution_count": 16,
   "id": "b8b4875a-ec20-4a6f-bd02-38fab4be9935",
   "metadata": {},
   "outputs": [
    {
     "ename": "SyntaxError",
     "evalue": "invalid syntax (1988075850.py, line 1)",
     "output_type": "error",
     "traceback": [
      "\u001b[1;36m  Cell \u001b[1;32mIn[16], line 1\u001b[1;36m\u001b[0m\n\u001b[1;33m    @#=34\u001b[0m\n\u001b[1;37m     ^\u001b[0m\n\u001b[1;31mSyntaxError\u001b[0m\u001b[1;31m:\u001b[0m invalid syntax\n"
     ]
    }
   ],
   "source": [
    "@#=34\n",
    "print (@#)"
   ]
  },
  {
   "cell_type": "code",
   "execution_count": 18,
   "id": "6b5885e5-1026-49bc-afb3-de0e16e94c84",
   "metadata": {},
   "outputs": [
    {
     "name": "stdout",
     "output_type": "stream",
     "text": [
      "2\n",
      "<class 'str'>\n"
     ]
    }
   ],
   "source": [
    "a=2\n",
    "b=1.3\n",
    "c= \"my name is musadiq\"\n",
    "print (a)\n",
    "print(type(c))"
   ]
  },
  {
   "cell_type": "code",
   "execution_count": 12,
   "id": "4aaacaf7-90fa-490e-aa58-0b14ae641596",
   "metadata": {},
   "outputs": [
    {
     "name": "stdout",
     "output_type": "stream",
     "text": [
      "(3+3j)\n",
      "<class 'complex'>\n"
     ]
    }
   ],
   "source": [
    "v=3+3j\n",
    "print(v)\n",
    "print(type(v))"
   ]
  },
  {
   "cell_type": "code",
   "execution_count": 10,
   "id": "b735e9cb-0327-4966-8d35-286aeaa59b13",
   "metadata": {},
   "outputs": [
    {
     "name": "stdout",
     "output_type": "stream",
     "text": [
      "<class 'bool'>\n"
     ]
    }
   ],
   "source": [
    "num = False\n",
    "print(type(num))"
   ]
  },
  {
   "cell_type": "markdown",
   "id": "292de39c-d958-4706-b983-dc7c754ece36",
   "metadata": {},
   "source": [
    "## A Variable Name Cannot Be a Python Keyword"
   ]
  },
  {
   "cell_type": "code",
   "execution_count": 154,
   "id": "7a1c2a6f-971f-4a8b-be02-2779d283a99f",
   "metadata": {},
   "outputs": [
    {
     "ename": "TypeError",
     "evalue": "'int' object is not callable",
     "output_type": "error",
     "traceback": [
      "\u001b[1;31m---------------------------------------------------------------------------\u001b[0m",
      "\u001b[1;31mTypeError\u001b[0m                                 Traceback (most recent call last)",
      "Cell \u001b[1;32mIn[154], line 2\u001b[0m\n\u001b[0;32m      1\u001b[0m \u001b[38;5;28mprint\u001b[39m\u001b[38;5;241m=\u001b[39m\u001b[38;5;241m3\u001b[39m\n\u001b[1;32m----> 2\u001b[0m \u001b[38;5;28mprint\u001b[39m(\u001b[38;5;28mprint\u001b[39m)\n",
      "\u001b[1;31mTypeError\u001b[0m: 'int' object is not callable"
     ]
    }
   ],
   "source": [
    "print=3\n",
    "print(print)"
   ]
  },
  {
   "cell_type": "markdown",
   "id": "3092fe6e-f4cb-4edc-a9bd-c8ca24088694",
   "metadata": {},
   "source": [
    "# concatenation"
   ]
  },
  {
   "cell_type": "code",
   "execution_count": 1,
   "id": "d9453d71-44ec-4acd-9ec0-866189a6bfa6",
   "metadata": {},
   "outputs": [
    {
     "name": "stdout",
     "output_type": "stream",
     "text": [
      "syed musadiq\n"
     ]
    }
   ],
   "source": [
    "first_name = \"musadiq\"\n",
    "second_name = \"syed\"\n",
    "full_name = f\"{second_name} {first_name}\"\n",
    "print(full_name)"
   ]
  },
  {
   "cell_type": "code",
   "execution_count": 3,
   "id": "4776e4e3-01d6-4172-920b-156d0458461b",
   "metadata": {},
   "outputs": [
    {
     "name": "stdout",
     "output_type": "stream",
     "text": [
      "syedmusadiq\n"
     ]
    }
   ],
   "source": [
    "a= \"musadiq\"\n",
    "b= \"syed\"\n",
    "print (b+a)"
   ]
  },
  {
   "cell_type": "markdown",
   "id": "ed992b7d-4ef8-457a-b87a-b29d3b7ba1f7",
   "metadata": {},
   "source": [
    "# reassign"
   ]
  },
  {
   "cell_type": "code",
   "execution_count": 37,
   "id": "0df44e9b-bc02-44e8-852d-823253faf9bd",
   "metadata": {},
   "outputs": [
    {
     "name": "stdout",
     "output_type": "stream",
     "text": [
      "3\n"
     ]
    }
   ],
   "source": [
    "x=4\n",
    "x =3\n",
    "print (x)"
   ]
  },
  {
   "cell_type": "markdown",
   "id": "84b17b31-42e4-4948-9b57-bf173eaff5a7",
   "metadata": {},
   "source": [
    "# Arithmetic operator"
   ]
  },
  {
   "cell_type": "code",
   "execution_count": 46,
   "id": "9958ffcd-13d3-41a1-aa4a-a089388dbec2",
   "metadata": {},
   "outputs": [
    {
     "ename": "TypeError",
     "evalue": "unsupported operand type(s) for -: 'str' and 'str'",
     "output_type": "error",
     "traceback": [
      "\u001b[1;31m---------------------------------------------------------------------------\u001b[0m",
      "\u001b[1;31mTypeError\u001b[0m                                 Traceback (most recent call last)",
      "Cell \u001b[1;32mIn[46], line 3\u001b[0m\n\u001b[0;32m      1\u001b[0m a\u001b[38;5;241m=\u001b[39m \u001b[38;5;124m\"\u001b[39m\u001b[38;5;124mmusadiq\u001b[39m\u001b[38;5;124m\"\u001b[39m\n\u001b[0;32m      2\u001b[0m b\u001b[38;5;241m=\u001b[39m \u001b[38;5;124m\"\u001b[39m\u001b[38;5;124msyed\u001b[39m\u001b[38;5;124m\"\u001b[39m\n\u001b[1;32m----> 3\u001b[0m \u001b[38;5;28mprint\u001b[39m ( a\u001b[38;5;241m-\u001b[39mb)\n",
      "\u001b[1;31mTypeError\u001b[0m: unsupported operand type(s) for -: 'str' and 'str'"
     ]
    }
   ],
   "source": [
    "a= \"musadiq\"\n",
    "b= \"syed\"\n",
    "print ( a-b)"
   ]
  },
  {
   "cell_type": "code",
   "execution_count": 8,
   "id": "34402485-cca9-4b09-afa4-4528f91083cb",
   "metadata": {},
   "outputs": [
    {
     "name": "stdout",
     "output_type": "stream",
     "text": [
      "hellow hellow hellow hellow \n"
     ]
    }
   ],
   "source": [
    "BA = \"hellow \"\n",
    "print(BA* 4)"
   ]
  },
  {
   "cell_type": "code",
   "execution_count": 12,
   "id": "939e7a86-df05-4c33-b646-4558bb19f467",
   "metadata": {},
   "outputs": [
    {
     "ename": "TypeError",
     "evalue": "unsupported operand type(s) for /: 'str' and 'str'",
     "output_type": "error",
     "traceback": [
      "\u001b[1;31m---------------------------------------------------------------------------\u001b[0m",
      "\u001b[1;31mTypeError\u001b[0m                                 Traceback (most recent call last)",
      "Cell \u001b[1;32mIn[12], line 3\u001b[0m\n\u001b[0;32m      1\u001b[0m a\u001b[38;5;241m=\u001b[39m \u001b[38;5;124m\"\u001b[39m\u001b[38;5;124mmusadiq\u001b[39m\u001b[38;5;124m\"\u001b[39m\n\u001b[0;32m      2\u001b[0m b\u001b[38;5;241m=\u001b[39m \u001b[38;5;124m\"\u001b[39m\u001b[38;5;124msyed\u001b[39m\u001b[38;5;124m\"\u001b[39m\n\u001b[1;32m----> 3\u001b[0m \u001b[38;5;28mprint\u001b[39m( a\u001b[38;5;241m/\u001b[39mb)\n",
      "\u001b[1;31mTypeError\u001b[0m: unsupported operand type(s) for /: 'str' and 'str'"
     ]
    }
   ],
   "source": [
    "a= \"musadiq\"\n",
    "b= \"syed\"\n",
    "print( a/b)"
   ]
  },
  {
   "cell_type": "markdown",
   "id": "56568abb-9f9d-4b79-a5f1-45f4eb7903f3",
   "metadata": {},
   "source": [
    "# modulous"
   ]
  },
  {
   "cell_type": "code",
   "execution_count": 53,
   "id": "dd47bebe-65a4-4b45-b52d-5247acda1ab6",
   "metadata": {},
   "outputs": [
    {
     "name": "stdout",
     "output_type": "stream",
     "text": [
      "0\n"
     ]
    }
   ],
   "source": [
    "print (12%2)"
   ]
  },
  {
   "cell_type": "markdown",
   "id": "f4567498-4397-4bd7-9f63-38ba621bbe34",
   "metadata": {},
   "source": [
    "# exponent "
   ]
  },
  {
   "cell_type": "code",
   "execution_count": 58,
   "id": "41689858-2223-473a-8d85-0ad83c52968f",
   "metadata": {},
   "outputs": [
    {
     "name": "stdout",
     "output_type": "stream",
     "text": [
      "9\n"
     ]
    }
   ],
   "source": [
    "a=3\n",
    "b=2\n",
    "print (a ** b)"
   ]
  },
  {
   "cell_type": "markdown",
   "id": "52077525-5900-410f-8635-1a61d30aeacc",
   "metadata": {},
   "source": [
    "# boolean operator "
   ]
  },
  {
   "cell_type": "code",
   "execution_count": 63,
   "id": "c825687b-b7df-4178-9f67-e54229e0aa1f",
   "metadata": {},
   "outputs": [
    {
     "name": "stdout",
     "output_type": "stream",
     "text": [
      "<class 'bool'>\n"
     ]
    }
   ],
   "source": [
    "a= True \n",
    "print ( type (a))"
   ]
  },
  {
   "cell_type": "code",
   "execution_count": 65,
   "id": "c10d9cc4-9456-4d78-b6c6-b5f4d23473f7",
   "metadata": {},
   "outputs": [
    {
     "name": "stdout",
     "output_type": "stream",
     "text": [
      "True\n"
     ]
    }
   ],
   "source": [
    "x=5\n",
    "y=5\n",
    "print (x==y)"
   ]
  },
  {
   "cell_type": "code",
   "execution_count": 85,
   "id": "c71974b5-8203-4f3e-b71c-2a4cc57d8ab3",
   "metadata": {},
   "outputs": [
    {
     "name": "stdout",
     "output_type": "stream",
     "text": [
      "True\n"
     ]
    }
   ],
   "source": [
    "x = 2\n",
    "y = 3\n",
    "print( x!=y)\n"
   ]
  },
  {
   "cell_type": "code",
   "execution_count": 81,
   "id": "c4960b04-dd47-4a6e-a2b5-530ac4ab2777",
   "metadata": {},
   "outputs": [
    {
     "name": "stdout",
     "output_type": "stream",
     "text": [
      "True\n"
     ]
    }
   ],
   "source": [
    "x=10\n",
    "y=10\n",
    "print(x %2==0)"
   ]
  },
  {
   "cell_type": "markdown",
   "id": "fd3f320b-aa1d-44e5-8909-4adaf10a3fd3",
   "metadata": {},
   "source": [
    "# logical operators"
   ]
  },
  {
   "cell_type": "code",
   "execution_count": 88,
   "id": "5dacf492-068a-4fa4-9fcb-acea9eabe199",
   "metadata": {},
   "outputs": [
    {
     "name": "stdout",
     "output_type": "stream",
     "text": [
      "False\n"
     ]
    }
   ],
   "source": [
    "x=True\n",
    "y=False\n",
    "print( x and y)"
   ]
  },
  {
   "cell_type": "code",
   "execution_count": 92,
   "id": "716d7f2c-d957-49c7-9456-88e4ce8b0073",
   "metadata": {},
   "outputs": [
    {
     "name": "stdout",
     "output_type": "stream",
     "text": [
      "True\n"
     ]
    }
   ],
   "source": [
    "x=False\n",
    "y=True\n",
    "print( x or y)"
   ]
  },
  {
   "cell_type": "markdown",
   "id": "8da6cfe0-14a2-4a3a-b03b-0501040d9da8",
   "metadata": {},
   "source": [
    "# Not operators"
   ]
  },
  {
   "cell_type": "code",
   "execution_count": 95,
   "id": "17c568bf-d354-4f40-b9f3-4f3b8c1fc880",
   "metadata": {},
   "outputs": [
    {
     "name": "stdout",
     "output_type": "stream",
     "text": [
      "False\n"
     ]
    }
   ],
   "source": [
    "x = True \n",
    "print (not x)"
   ]
  },
  {
   "cell_type": "code",
   "execution_count": 97,
   "id": "f6728726-24c7-41d4-96d4-8c72f0543ad2",
   "metadata": {},
   "outputs": [
    {
     "name": "stdout",
     "output_type": "stream",
     "text": [
      "True\n"
     ]
    }
   ],
   "source": [
    "x = False\n",
    "print (not x)"
   ]
  },
  {
   "cell_type": "markdown",
   "id": "bb8eb4e3-3b5f-4702-859e-1dab823954dc",
   "metadata": {},
   "source": [
    "# question"
   ]
  },
  {
   "cell_type": "code",
   "execution_count": 103,
   "id": "c7e9818e-8261-4c87-a298-aecb0242577a",
   "metadata": {},
   "outputs": [
    {
     "name": "stdout",
     "output_type": "stream",
     "text": [
      "The price of product 1 is: 12\n",
      "The price of product 2 is: 30\n",
      "The price of product 3 is: 42\n",
      "The total price the customer needs to pay is: 84\n"
     ]
    }
   ],
   "source": [
    "product_1 = 4 * 3\n",
    "product_2 = 5 * 6\n",
    "product_3 = 6 * 7\n",
    "\n",
    "print(\"The price of product 1 is:\", product_1)\n",
    "print(\"The price of product 2 is:\", product_2)  # Fixed variable\n",
    "print(\"The price of product 3 is:\", product_3)  # Fixed variable\n",
    "\n",
    "# Corrected total price calculation\n",
    "total_price = product_1 + product_2 + product_3\n",
    "print(\"The total price the customer needs to pay is:\", total_price)\n"
   ]
  },
  {
   "cell_type": "code",
   "execution_count": 105,
   "id": "cecea09d-1f9b-493d-9a15-137543277e57",
   "metadata": {},
   "outputs": [
    {
     "name": "stdout",
     "output_type": "stream",
     "text": [
      "The Simple Interest is: 360000.0\n"
     ]
    }
   ],
   "source": [
    "# Simple Interest Formula: SI = (P * R * T) / 100\n",
    "\n",
    "P = 100000  # Principal Amount\n",
    "R = 12      # Rate of Interest (in %)\n",
    "T = 30      # Time in Years\n",
    "\n",
    "# Calculating Simple Interest\n",
    "SI = (P * R * T) / 100\n",
    "\n",
    "# Printing the Simple Interest\n",
    "print(\"The Simple Interest is:\", SI)\n"
   ]
  },
  {
   "cell_type": "code",
   "execution_count": 107,
   "id": "b9932f8c-7cf6-48fb-8274-733190d3832d",
   "metadata": {},
   "outputs": [
    {
     "name": "stdin",
     "output_type": "stream",
     "text": [
      "Enter the radius of the circle:  44\n"
     ]
    },
    {
     "name": "stdout",
     "output_type": "stream",
     "text": [
      "The area of the circle with radius 44.0 is: 6082.12\n"
     ]
    }
   ],
   "source": [
    "import math  # Importing the math module to use math.pi\n",
    "\n",
    "# Input: Radius of the circle\n",
    "radius = float(input(\"Enter the radius of the circle: \"))\n",
    "\n",
    "# Formula for the area of a circle\n",
    "area = math.pi * (radius ** 2)\n",
    "\n",
    "# Display the result\n",
    "print(f\"The area of the circle with radius {radius} is: {area:.2f}\")\n"
   ]
  },
  {
   "cell_type": "markdown",
   "id": "3f936cdd-11cc-4df5-be60-062e0d522919",
   "metadata": {},
   "source": [
    "## float function"
   ]
  },
  {
   "cell_type": "code",
   "execution_count": 118,
   "id": "fa4a0d15-a5bf-49f6-9c59-485c5229b972",
   "metadata": {},
   "outputs": [
    {
     "name": "stdout",
     "output_type": "stream",
     "text": [
      "<class 'int'>\n",
      "20.0\n",
      "<class 'float'>\n"
     ]
    }
   ],
   "source": [
    "num_int = 20\n",
    "print(type(num_int))\n",
    "a=float(num_int)\n",
    "print(a)\n",
    "print(type(a))"
   ]
  },
  {
   "cell_type": "markdown",
   "id": "41100bc7-201d-4cf8-855c-17f7b66d43b2",
   "metadata": {},
   "source": [
    "# int function"
   ]
  },
  {
   "cell_type": "code",
   "execution_count": 139,
   "id": "606f0d62-efd7-4c8a-94ca-584275fd47e2",
   "metadata": {},
   "outputs": [
    {
     "name": "stdout",
     "output_type": "stream",
     "text": [
      "<class 'float'>\n",
      "4\n",
      "<class 'int'>\n"
     ]
    }
   ],
   "source": [
    "a= 4.3\n",
    "print(type(a))\n",
    "c=int(a)\n",
    "print(c)\n",
    "print(type(c))"
   ]
  },
  {
   "cell_type": "code",
   "execution_count": null,
   "id": "2e8672e7-c38a-4bb0-88b5-bd8cc016d1c2",
   "metadata": {},
   "outputs": [],
   "source": []
  },
  {
   "cell_type": "code",
   "execution_count": null,
   "id": "3f35d7c3-e360-4524-9b84-2d5f90de4281",
   "metadata": {},
   "outputs": [],
   "source": []
  },
  {
   "cell_type": "code",
   "execution_count": null,
   "id": "8a97c47d-1de7-47d1-bc07-2c5a926e6d9d",
   "metadata": {},
   "outputs": [],
   "source": []
  },
  {
   "cell_type": "code",
   "execution_count": null,
   "id": "42d2d9cc-668d-4e9b-a169-54a336499d24",
   "metadata": {},
   "outputs": [],
   "source": []
  },
  {
   "cell_type": "code",
   "execution_count": null,
   "id": "f82bcb7a-78c9-4d8f-b0bd-d6bfab46fb65",
   "metadata": {},
   "outputs": [],
   "source": []
  },
  {
   "cell_type": "code",
   "execution_count": null,
   "id": "d8823410-b74b-40fe-966d-4dd2b322fe27",
   "metadata": {},
   "outputs": [],
   "source": []
  },
  {
   "cell_type": "code",
   "execution_count": null,
   "id": "ca63fe9a-aaf1-46ca-9a82-cb45bf8f0214",
   "metadata": {},
   "outputs": [],
   "source": []
  },
  {
   "cell_type": "code",
   "execution_count": null,
   "id": "5e201262-c5ee-48d4-99c4-f3d8c134263e",
   "metadata": {},
   "outputs": [],
   "source": []
  },
  {
   "cell_type": "code",
   "execution_count": null,
   "id": "cb6a106e-71a0-4140-a346-eb105d624b96",
   "metadata": {},
   "outputs": [],
   "source": []
  },
  {
   "cell_type": "code",
   "execution_count": null,
   "id": "dd9d47ed-3e8b-45b5-addf-c6248a5ecefb",
   "metadata": {},
   "outputs": [],
   "source": []
  }
 ],
 "metadata": {
  "kernelspec": {
   "display_name": "Python [conda env:base] *",
   "language": "python",
   "name": "conda-base-py"
  },
  "language_info": {
   "codemirror_mode": {
    "name": "ipython",
    "version": 3
   },
   "file_extension": ".py",
   "mimetype": "text/x-python",
   "name": "python",
   "nbconvert_exporter": "python",
   "pygments_lexer": "ipython3",
   "version": "3.12.7"
  },
  "panel-cell-order": [
   "906fa286-c9ad-4f1b-85d0-db04bba63c44"
  ]
 },
 "nbformat": 4,
 "nbformat_minor": 5
}
