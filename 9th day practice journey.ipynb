{
 "cells": [
  {
   "cell_type": "code",
   "execution_count": 3,
   "id": "a7ff4e4f-f960-4f5a-9f9c-73fe7e99b7f2",
   "metadata": {},
   "outputs": [
    {
     "name": "stdout",
     "output_type": "stream",
     "text": [
      "5\n"
     ]
    }
   ],
   "source": [
    "model_params = {\n",
    "    'learning_rate': 0.01,\n",
    "    'n_estimators': 100,\n",
    "    'max_depth': 5}\n",
    "print(model_params['max_depth'])  # float direct , and sting \"\" in dictioary\n"
   ]
  },
  {
   "cell_type": "code",
   "execution_count": 13,
   "id": "fb719774-e931-4df9-8e71-f8034fa8c7bf",
   "metadata": {},
   "outputs": [
    {
     "name": "stdout",
     "output_type": "stream",
     "text": [
      "ml\n"
     ]
    }
   ],
   "source": [
    "syed_khan={\n",
    "    \"learning\" : \"python\",\n",
    "    \"ai\" : \"ml\",\n",
    "    \"datascience\": \"work\"}\n",
    "print(syed_khan[\"ai\"])\n"
   ]
  },
  {
   "cell_type": "code",
   "execution_count": 11,
   "id": "c50cb45b-ba3f-4e64-bc22-dcf5c4199cc1",
   "metadata": {},
   "outputs": [
    {
     "name": "stdout",
     "output_type": "stream",
     "text": [
      "ml\n"
     ]
    }
   ],
   "source": [
    "syed_khan = {\n",
    "    \"learning\": \"python\",\n",
    "    \"ai\": \"ml\",\n",
    "    \"datascience\": \"work\"\n",
    "}\n",
    "\n",
    "# Access and print the value associated with the key \"ai\"\n",
    "print(syed_khan[\"ai\"])\n"
   ]
  },
  {
   "cell_type": "code",
   "execution_count": 39,
   "id": "f7bfacbb-e6f0-48bd-b15e-d17238c055ce",
   "metadata": {},
   "outputs": [
    {
     "name": "stdout",
     "output_type": "stream",
     "text": [
      "200\n"
     ]
    }
   ],
   "source": [
    "ml_model = {\n",
    "    'name': 'RandomForestClassifier',\n",
    "    'params': {'n_estimators': 100, 'max_depth': 5},\n",
    "    'accuracy': 0.92,\n",
    "    'features': {'age':100, 'income':200, 'education':300}\n",
    "}\n",
    "print(ml_model['features']['income'])  # Output: 100\n"
   ]
  },
  {
   "cell_type": "code",
   "execution_count": 63,
   "id": "6c9c0301-c258-4672-a2a9-78a48a54a42a",
   "metadata": {},
   "outputs": [
    {
     "name": "stdout",
     "output_type": "stream",
     "text": [
      "{0: 0, 1: 1, 2: 4, 3: 9, 4: 16, 5: 25}\n"
     ]
    }
   ],
   "source": [
    "# Dictionary comprehension to store cubes of numbers from 0 to 5\n",
    "cube_numbers = {x: x**2 for x in range(6)}\n",
    "print(cube_numbers)\n"
   ]
  },
  {
   "cell_type": "code",
   "execution_count": 77,
   "id": "17856e18-fc38-45a1-a88c-a541b7dfd2a1",
   "metadata": {},
   "outputs": [
    {
     "name": "stdout",
     "output_type": "stream",
     "text": [
      "{0: 0, 1: 1, 2: 4, 3: 9, 4: 16, 5: 25}\n"
     ]
    }
   ],
   "source": [
    "cube_number={x: x**2 for x in range (6)}\n",
    "print(cube_number)"
   ]
  },
  {
   "cell_type": "code",
   "execution_count": 81,
   "id": "3129d87b-0fa6-4853-991f-8e632c1042f6",
   "metadata": {},
   "outputs": [
    {
     "name": "stdout",
     "output_type": "stream",
     "text": [
      "{0: 0, 1: 1, 2: 4, 3: 9, 4: 16, 5: 25, 6: 36, 7: 49}\n"
     ]
    }
   ],
   "source": [
    "cube_number={x: x**2 for x in range (8)}\n",
    "print(cube_number)"
   ]
  },
  {
   "cell_type": "code",
   "execution_count": 83,
   "id": "830fd946-3b3d-439e-93a9-95f4d7e6324f",
   "metadata": {},
   "outputs": [
    {
     "name": "stdout",
     "output_type": "stream",
     "text": [
      "0.93\n"
     ]
    }
   ],
   "source": [
    "experiment_results = {\n",
    "    'experiment_1': {'accuracy': 0.91, 'precision': 0.88},\n",
    "    'experiment_2': {'accuracy': 0.93, 'precision': 0.90}\n",
    "}\n",
    "print(experiment_results['experiment_2']['accuracy'])  # Output: 0.93\n"
   ]
  },
  {
   "cell_type": "code",
   "execution_count": null,
   "id": "7387f877-7751-4949-9d1d-1063b797fa6d",
   "metadata": {},
   "outputs": [],
   "source": [
    "def create_product_inventory(num_products):\n",
    "    inventory = {}\n",
    "    for i in range(1, num_products + 1):\n",
    "        product_id = int(input(f\"Enter the product ID for product {i}: \"))\n",
    "        product_name = input(f\"Enter the product name for ID {product_id}: \")\n",
    "        inventory[product_id] = product_name\n",
    "    return inventory\n",
    "\n",
    "\n",
    "# Main program execution\n",
    "num_products = int(input(\"Enter the number of products: \"))\n",
    "inventory_dict = create_product_inventory(num_products)\n",
    "\n",
    "print(\"\\nProduct Inventory:\")\n",
    "print(inventory_dict)"
   ]
  }
 ],
 "metadata": {
  "kernelspec": {
   "display_name": "Python [conda env:base] *",
   "language": "python",
   "name": "conda-base-py"
  },
  "language_info": {
   "codemirror_mode": {
    "name": "ipython",
    "version": 3
   },
   "file_extension": ".py",
   "mimetype": "text/x-python",
   "name": "python",
   "nbconvert_exporter": "python",
   "pygments_lexer": "ipython3",
   "version": "3.12.7"
  }
 },
 "nbformat": 4,
 "nbformat_minor": 5
}
