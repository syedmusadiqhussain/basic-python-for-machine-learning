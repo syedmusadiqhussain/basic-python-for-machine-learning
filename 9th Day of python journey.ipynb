{
 "cells": [
  {
   "cell_type": "markdown",
   "id": "fa2eecfd-292c-4653-a67d-54bdd7a15fda",
   "metadata": {},
   "source": [
    "# python journey (Date 21/2/2025)"
   ]
  },
  {
   "cell_type": "markdown",
   "id": "f7f473b9-288a-4c9a-bd27-873e0f973ed2",
   "metadata": {},
   "source": [
    "# dictioary part 1"
   ]
  },
  {
   "cell_type": "markdown",
   "id": "ff040adf-2127-4fe4-96f4-ec70a0653cff",
   "metadata": {},
   "source": [
    "## creating simple dictioary\n"
   ]
  },
  {
   "cell_type": "code",
   "execution_count": 1,
   "id": "1eab61d8-cb27-4fc6-a10d-af06d6b11303",
   "metadata": {},
   "outputs": [
    {
     "name": "stdout",
     "output_type": "stream",
     "text": [
      "0.01\n"
     ]
    }
   ],
   "source": [
    "model_params = {\n",
    "    'learning_rate': 0.01,\n",
    "    'n_estimators': 100,\n",
    "    'max_depth': 5\n",
    "}\n",
    "print(model_params['learning_rate'])  # Output: 0.01\n"
   ]
  },
  {
   "cell_type": "markdown",
   "id": "697afc5c-4921-4827-b866-775b99bc6120",
   "metadata": {},
   "source": [
    "# mixed dictioary"
   ]
  },
  {
   "cell_type": "code",
   "execution_count": 3,
   "id": "705e53e7-09dc-48e7-ba5b-219898977626",
   "metadata": {},
   "outputs": [
    {
     "name": "stdout",
     "output_type": "stream",
     "text": [
      "100\n"
     ]
    }
   ],
   "source": [
    "ml_model = {\n",
    "    'name': 'RandomForestClassifier',\n",
    "    'params': {'n_estimators': 100, 'max_depth': 5},\n",
    "    'accuracy': 0.92,\n",
    "    'features': ['age', 'income', 'education']\n",
    "}\n",
    "print(ml_model['params']['n_estimators'])  # Output: 100\n"
   ]
  },
  {
   "cell_type": "markdown",
   "id": "0afa71b3-6d74-478e-b75f-cb683dfa4b89",
   "metadata": {},
   "source": [
    "# Dictionary Comprehension"
   ]
  },
  {
   "cell_type": "code",
   "execution_count": 5,
   "id": "14850a61-75a8-4783-b07d-4b0bf2325b5c",
   "metadata": {},
   "outputs": [
    {
     "name": "stdout",
     "output_type": "stream",
     "text": [
      "{0: 0, 1: 1, 2: 4, 3: 9, 4: 16}\n"
     ]
    }
   ],
   "source": [
    "squared_numbers = {x: x**2 for x in range(5)}\n",
    "print(squared_numbers)  # Output: {0: 0, 1: 1, 2: 4, 3: 9, 4: 16}\n"
   ]
  },
  {
   "cell_type": "markdown",
   "id": "95e29829-6799-4807-a101-9e62476e3d2e",
   "metadata": {},
   "source": [
    "# Nested Dictionaries"
   ]
  },
  {
   "cell_type": "code",
   "execution_count": null,
   "id": "7c33cf07-53ad-4ce6-8ee9-a660f839ae3b",
   "metadata": {},
   "outputs": [],
   "source": [
    "experiment_results = {\n",
    "    'experiment_1': {'accuracy': 0.91, 'precision': 0.88},\n",
    "    'experiment_2': {'accuracy': 0.93, 'precision': 0.90}\n",
    "}\n",
    "print(experiment_results['experiment_2']['accuracy'])  # Output: 0.93\n"
   ]
  },
  {
   "cell_type": "markdown",
   "id": "991f7159-d186-4306-bb84-0cdaf6fa5996",
   "metadata": {},
   "source": [
    "# Parictase Question"
   ]
  },
  {
   "cell_type": "code",
   "execution_count": 15,
   "id": "59f6cc60-94c4-499f-bca2-db2ee39eb99e",
   "metadata": {},
   "outputs": [
    {
     "name": "stdin",
     "output_type": "stream",
     "text": [
      "Enter the number of products:  2\n",
      "Enter the product ID for product 1:  32\n",
      "Enter the product name for ID 32:  cat\n",
      "Enter the product ID for product 2:  31\n",
      "Enter the product name for ID 31:  dog\n"
     ]
    },
    {
     "name": "stdout",
     "output_type": "stream",
     "text": [
      "\n",
      "Product Inventory:\n",
      "{32: 'cat', 31: 'dog'}\n"
     ]
    }
   ],
   "source": [
    "def create_product_inventory(num_products):\n",
    "    inventory = {}\n",
    "    for i in range(1, num_products + 1):\n",
    "        product_id = int(input(f\"Enter the product ID for product {i}: \"))\n",
    "        product_name = input(f\"Enter the product name for ID {product_id}: \")\n",
    "        inventory[product_id] = product_name\n",
    "    return inventory\n",
    "\n",
    "\n",
    "# Main program execution\n",
    "num_products = int(input(\"Enter the number of products: \"))\n",
    "inventory_dict = create_product_inventory(num_products)\n",
    "\n",
    "print(\"\\nProduct Inventory:\")\n",
    "print(inventory_dict)"
   ]
  },
  {
   "cell_type": "markdown",
   "id": "4f31961f-6295-4c86-ba2c-5ad3ea445808",
   "metadata": {},
   "source": [
    "# Accessing Values Using Keys in a Dictionary "
   ]
  },
  {
   "cell_type": "code",
   "execution_count": 18,
   "id": "4d06e6a9-d933-4211-985b-af8a29b9b3c6",
   "metadata": {},
   "outputs": [
    {
     "name": "stdout",
     "output_type": "stream",
     "text": [
      "Laptop\n"
     ]
    }
   ],
   "source": [
    "product_inventory = {101: 'Laptop', 102: 'Smartphone', 103: 'Tablet'}\n",
    "\n",
    "# Accessing value using key\n",
    "print(product_inventory[101])  # Output: Laptop\n"
   ]
  },
  {
   "cell_type": "markdown",
   "id": "16923738-e4e8-4a0c-86c8-6c59b69dd4cd",
   "metadata": {},
   "source": [
    "#  Flexible Key Types"
   ]
  },
  {
   "cell_type": "code",
   "execution_count": null,
   "id": "479a8f5f-458d-4008-9126-f83c14c65acb",
   "metadata": {},
   "outputs": [],
   "source": [
    "model_params = {\n",
    "    'learning_rate': 0.01,\n",
    "    'n_estimators': 100,\n",
    "    'activation': 'relu'\n",
    "}\n",
    "print(model_params['learning_rate'])  # string is key\n"
   ]
  },
  {
   "cell_type": "code",
   "execution_count": null,
   "id": "6d89377d-59d4-4f3c-ac14-0c337e66ddf2",
   "metadata": {},
   "outputs": [],
   "source": [
    "product_inventory = {\n",
    "    101: 'Laptop',\n",
    "    102: 'Smartphone',\n",
    "    103: 'Tablet'\n",
    "}\n",
    "print(product_inventory[102])  # integer is a key\n"
   ]
  },
  {
   "cell_type": "code",
   "execution_count": null,
   "id": "6571750a-40a9-4ddb-a4d1-dc5dcf4f144d",
   "metadata": {},
   "outputs": [],
   "source": [
    "temperature_readings = {\n",
    "    36.6: 'Normal',\n",
    "    38.0: 'Fever',\n",
    "    40.0: 'High Fever'\n",
    "}\n",
    "print(temperature_readings[36.6])  # float is a key\n"
   ]
  },
  {
   "cell_type": "code",
   "execution_count": null,
   "id": "d2f2392b-2669-4294-a4d6-36adc199185f",
   "metadata": {},
   "outputs": [],
   "source": [
    "coordinates = {\n",
    "    (0, 0): 'Origin',\n",
    "    (1, 2): 'Point A',\n",
    "    (3, 4): 'Point B'\n",
    "}\n",
    "print(coordinates[(1, 2)])  # tuple is key\n"
   ]
  },
  {
   "cell_type": "code",
   "execution_count": null,
   "id": "6bf977b5-9312-4552-bae0-da26e5deef6e",
   "metadata": {},
   "outputs": [],
   "source": [
    "model_status = {\n",
    "    True: 'Model trained successfully',\n",
    "    False: 'Model training failed'\n",
    "}\n",
    "print(model_status[True])  #Booleans as Keys\n"
   ]
  },
  {
   "cell_type": "markdown",
   "id": "7008c1a8-5f84-40a1-91b4-3564e0750291",
   "metadata": {},
   "source": [
    "# Practise Question"
   ]
  },
  {
   "cell_type": "code",
   "execution_count": null,
   "id": "19f645e3-b6e1-4441-95cd-47be9064e1d3",
   "metadata": {},
   "outputs": [],
   "source": [
    "book_rating = {\n",
    "    \"python programming\": 3.4,\n",
    "    \"data science\": 3.4,\n",
    "    \"machine learning basic\": 3.2\n",
    "}\n",
    "\n",
    "# Correct key and variable name, with proper indentation\n",
    "if \"python programming\" in book_rating:\n",
    "    print(\"Found\")\n",
    "else:\n",
    "    print(\"Not found\")\n"
   ]
  },
  {
   "cell_type": "code",
   "execution_count": null,
   "id": "825b38a4-5158-4b19-b1ef-766f4c9276ff",
   "metadata": {},
   "outputs": [],
   "source": [
    "fruit_stock = {\n",
    "    \"apple\": 10,\n",
    "    \"banana\": 23,\n",
    "    \"orange\": 32\n",
    "}\n",
    "\n",
    "# Loop through the dictionary and print the fruit and its stock\n",
    "for fruit in fruit_stock:\n",
    "    print(\"Fruit:\", fruit, \", Stock:\", fruit_stock[fruit])\n"
   ]
  },
  {
   "cell_type": "markdown",
   "id": "bc60dc23-ab91-4e14-8bfe-9cc92c40ef1e",
   "metadata": {},
   "source": [
    "# Changing a Value in a Dictionary"
   ]
  },
  {
   "cell_type": "code",
   "execution_count": 36,
   "id": "24e0620b-0c83-470f-9749-8844c0607e21",
   "metadata": {},
   "outputs": [
    {
     "name": "stdout",
     "output_type": "stream",
     "text": [
      "{'apple': 15, 'banana': 23, 'orange': 32}\n"
     ]
    }
   ],
   "source": [
    "fruit_stock = {\"apple\": 10, \"banana\": 23, \"orange\": 32}\n",
    "\n",
    "# Changing the stock of 'apple'\n",
    "fruit_stock[\"apple\"] = 15\n",
    "print(fruit_stock)  # Output: {'apple': 15, 'banana': 23, 'orange': 32}\n"
   ]
  },
  {
   "cell_type": "markdown",
   "id": "46a9f5b7-f3cf-4532-a9f2-db83cffbdc58",
   "metadata": {},
   "source": [
    "# Adding an Item to a Dictionary"
   ]
  },
  {
   "cell_type": "code",
   "execution_count": 38,
   "id": "f4da068e-9714-484d-b6d8-7611b7f94927",
   "metadata": {},
   "outputs": [
    {
     "name": "stdout",
     "output_type": "stream",
     "text": [
      "{'apple': 15, 'banana': 23, 'orange': 32, 'grape': 20}\n"
     ]
    }
   ],
   "source": [
    "# Adding 'grape' to the dictionary\n",
    "fruit_stock[\"grape\"] = 20\n",
    "print(fruit_stock)  # Output: {'apple': 15, 'banana': 23, 'orange': 32, 'grape': 20}\n"
   ]
  },
  {
   "cell_type": "markdown",
   "id": "c47e8723-a5fd-4e80-a2e3-efbf3972bc65",
   "metadata": {},
   "source": [
    "# Using update() Method"
   ]
  },
  {
   "cell_type": "code",
   "execution_count": 40,
   "id": "1f991326-f077-423c-b5a9-cd8bc631665b",
   "metadata": {},
   "outputs": [
    {
     "name": "stdout",
     "output_type": "stream",
     "text": [
      "{'apple': 15, 'banana': 30, 'orange': 32, 'grape': 20, 'pineapple': 12}\n"
     ]
    }
   ],
   "source": [
    "# Existing dictionary\n",
    "fruit_stock = {'apple': 15, 'banana': 23, 'orange': 32, 'grape': 20}\n",
    "\n",
    "# Update existing key and add a new one\n",
    "fruit_stock.update({\"banana\": 30, \"pineapple\": 12})\n",
    "print(fruit_stock)\n"
   ]
  },
  {
   "cell_type": "markdown",
   "id": "07f7fc25-a3cb-4c26-b307-56183383c7e4",
   "metadata": {},
   "source": [
    "# Removing Items from a Dictionary "
   ]
  },
  {
   "cell_type": "code",
   "execution_count": 15,
   "id": "ebca9d1a-5f11-4a45-b1b4-9190f660f68f",
   "metadata": {},
   "outputs": [
    {
     "name": "stdout",
     "output_type": "stream",
     "text": [
      "Removed 32 oranges\n"
     ]
    }
   ],
   "source": [
    "# Existing dictionary\n",
    "fruit_stock = {'apple': 15, 'banana': 30, 'orange': 32, 'grape': 20, 'pineapple': 12}\n",
    "\n",
    "# Remove 'orange' from dictionary using pop() and capture its value\n",
    "removed_value = fruit_stock.pop(\"orange\")\n",
    "\n",
    "# Display the removed value and the updated dictionary\n",
    "print(f\"Removed {removed_value} oranges\")  \n"
   ]
  },
  {
   "cell_type": "markdown",
   "id": "6e66ed3c-7268-4366-9f61-5d4b08198776",
   "metadata": {},
   "source": [
    "# using del – Deletes a key-value pair entirely"
   ]
  },
  {
   "cell_type": "code",
   "execution_count": 13,
   "id": "e4965612-7ded-4d13-9829-285b34ef1acd",
   "metadata": {},
   "outputs": [
    {
     "name": "stdout",
     "output_type": "stream",
     "text": [
      "{'apple': 15, 'banana': 30, 'orange': 32, 'pineapple': 12}\n"
     ]
    }
   ],
   "source": [
    "# Existing dictionary\n",
    "fruit_stock = {'apple': 15, 'banana': 30, 'orange': 32, 'grape': 20, 'pineapple': 12}\n",
    "\n",
    "# Remove 'grape' using del\n",
    "del fruit_stock[\"grape\"]\n",
    "\n",
    "# Print the updated dictionary\n",
    "print(fruit_stock)  # Output: {'apple': 15, 'banana': 30, 'orange': 32, 'pineapple': 12}\n"
   ]
  },
  {
   "cell_type": "markdown",
   "id": "fdce6f73-3247-4095-a62a-34f266e703a7",
   "metadata": {},
   "source": [
    "# Clearing All Items from the Dictionary"
   ]
  },
  {
   "cell_type": "code",
   "execution_count": 11,
   "id": "b55271cd-1742-43eb-801a-6271239fbc56",
   "metadata": {},
   "outputs": [
    {
     "name": "stdout",
     "output_type": "stream",
     "text": [
      "{}\n"
     ]
    }
   ],
   "source": [
    "# Existing dictionary\n",
    "fruit_stock = {'apple': 15, 'banana': 30, 'orange': 32, 'grape': 20, 'pineapple': 12}\n",
    "\n",
    "# Clear the entire dictionary\n",
    "fruit_stock.clear()\n",
    "\n",
    "# Print the cleared dictionary\n",
    "print(fruit_stock)  # Output: {}\n"
   ]
  },
  {
   "cell_type": "markdown",
   "id": "c4762956-cf74-4b8b-bbe8-a5d364737332",
   "metadata": {},
   "source": [
    "# practice question"
   ]
  },
  {
   "cell_type": "code",
   "execution_count": 20,
   "id": "82c6e251-529c-457d-a49a-c52958a1bc5f",
   "metadata": {},
   "outputs": [
    {
     "name": "stdout",
     "output_type": "stream",
     "text": [
      "{1: 1, 2: 4, 3: 9, 4: 16, 5: 25, 6: 36, 7: 49, 8: 64}\n"
     ]
    }
   ],
   "source": [
    "square_dict = {}  # Initialize an empty dictionary\n",
    "\n",
    "# Loop from 1 to 8 (range is exclusive of the end value)\n",
    "for num in range(1, 9):\n",
    "    square_dict[num] = num ** 2  # Store the square of each number\n",
    "\n",
    "# Print the final dictionary\n",
    "print(square_dict)\n"
   ]
  },
  {
   "cell_type": "code",
   "execution_count": 34,
   "id": "7843326e-e462-4607-96b0-590b918d6453",
   "metadata": {},
   "outputs": [],
   "source": [
    "# Correct dictionary with key-value pairs\n",
    "d = {1: 'a', 2: 'b', 3: 'c', 4: 'd', 23: 'e'}\n",
    "\n",
    "# Function to check if a key is present\n",
    "def is_key_present(x):\n",
    "    if x in d:\n",
    "        print(\"Key is present in the dictionary.\")\n",
    "    else:\n",
    "        print(\"Key is not present in the dictionary.\")"
   ]
  },
  {
   "cell_type": "code",
   "execution_count": 36,
   "id": "848de351-6b82-4f16-a4df-86f3e8096c1c",
   "metadata": {},
   "outputs": [
    {
     "name": "stdout",
     "output_type": "stream",
     "text": [
      "Key is present in the dictionary.\n"
     ]
    }
   ],
   "source": [
    "is_key_present(1) "
   ]
  },
  {
   "cell_type": "code",
   "execution_count": 28,
   "id": "b6fae743-0b8a-4813-983b-d0c80370b00a",
   "metadata": {},
   "outputs": [
    {
     "name": "stdin",
     "output_type": "stream",
     "text": [
      "🔑 Enter a key to check in the dictionary:  3\n"
     ]
    },
    {
     "name": "stdout",
     "output_type": "stream",
     "text": [
      "✅ Key 3 is present in the dictionary. Value: 'c'\n"
     ]
    },
    {
     "name": "stdin",
     "output_type": "stream",
     "text": [
      "🔄 Do you want to check another key? (yes/no):  no\n"
     ]
    },
    {
     "name": "stdout",
     "output_type": "stream",
     "text": [
      "👋 Exiting the key checker. Goodbye!\n"
     ]
    }
   ],
   "source": [
    "# Correct dictionary with key-value pairs\n",
    "d = {1: 'a', 2: 'b', 3: 'c', 4: 'd', 23: 'e'}\n",
    "\n",
    "# Function to check if a key is present\n",
    "def is_key_present(x):\n",
    "    if x in d:\n",
    "        print(f\"✅ Key {x} is present in the dictionary. Value: '{d[x]}'\")\n",
    "    else:\n",
    "        print(f\"❌ Key {x} is not present in the dictionary.\")\n",
    "\n",
    "# Main loop for user input\n",
    "while True:\n",
    "    try:\n",
    "        # Taking user input and converting it to an integer\n",
    "        user_input = int(input(\"🔑 Enter a key to check in the dictionary: \"))\n",
    "        is_key_present(user_input)\n",
    "    except ValueError:\n",
    "        print(\"⚠️ Invalid input! Please enter a valid integer key.\")\n",
    "\n",
    "    # Option for the user to continue or exit\n",
    "    cont = input(\"🔄 Do you want to check another key? (yes/no): \").strip().lower()\n",
    "    if cont != 'yes':\n",
    "        print(\"👋 Exiting the key checker. Goodbye!\")\n",
    "        break\n"
   ]
  },
  {
   "cell_type": "code",
   "execution_count": null,
   "id": "b19cade3-2707-4686-bd76-01e79c4a599d",
   "metadata": {},
   "outputs": [],
   "source": []
  },
  {
   "cell_type": "code",
   "execution_count": null,
   "id": "2cafc704-e31f-40fe-b719-7b9cf8655925",
   "metadata": {},
   "outputs": [],
   "source": []
  },
  {
   "cell_type": "code",
   "execution_count": null,
   "id": "4012bca1-cc75-431d-9ca6-2d5187472c0f",
   "metadata": {},
   "outputs": [],
   "source": []
  },
  {
   "cell_type": "code",
   "execution_count": null,
   "id": "c50e0782-095f-448a-9dbe-e1a2b69b259a",
   "metadata": {},
   "outputs": [],
   "source": []
  }
 ],
 "metadata": {
  "kernelspec": {
   "display_name": "Python [conda env:base] *",
   "language": "python",
   "name": "conda-base-py"
  },
  "language_info": {
   "codemirror_mode": {
    "name": "ipython",
    "version": 3
   },
   "file_extension": ".py",
   "mimetype": "text/x-python",
   "name": "python",
   "nbconvert_exporter": "python",
   "pygments_lexer": "ipython3",
   "version": "3.12.7"
  }
 },
 "nbformat": 4,
 "nbformat_minor": 5
}
