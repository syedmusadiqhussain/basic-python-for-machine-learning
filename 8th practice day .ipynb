{
 "cells": [
  {
   "cell_type": "markdown",
   "id": "5c20dd31-7fff-4724-bd08-f3103043aeb5",
   "metadata": {},
   "source": [
    "# keep practice and contious yor journey"
   ]
  },
  {
   "cell_type": "code",
   "execution_count": 1,
   "id": "90fd4246-02bb-4886-a2af-4bb9488d824d",
   "metadata": {},
   "outputs": [
    {
     "name": "stdout",
     "output_type": "stream",
     "text": [
      "hellowo:\n"
     ]
    }
   ],
   "source": [
    "print(\"hellowo:\")"
   ]
  },
  {
   "cell_type": "code",
   "execution_count": 15,
   "id": "5634553e-38f7-449d-b935-9952ff040181",
   "metadata": {},
   "outputs": [
    {
     "name": "stdin",
     "output_type": "stream",
     "text": [
      "Enter the number of people:  3\n",
      "Enter the age of person:  677\n",
      "Enter the age of person:  6\n",
      "Enter the age of person:  40\n"
     ]
    },
    {
     "name": "stdout",
     "output_type": "stream",
     "text": [
      "The number of children: 1\n",
      "The number of adults: 1\n",
      "The number of seniors: 1\n"
     ]
    }
   ],
   "source": [
    "num_people = int(input(\"Enter the number of people: \"))\n",
    "ages = []\n",
    "\n",
    "# Collect ages from the user\n",
    "for i in range(num_people):\n",
    "    age = int(input(\"Enter the age of person: \"))\n",
    "    ages.append(age)\n",
    "\n",
    "# Initialize counters\n",
    "child_count = 0\n",
    "adult_count = 0\n",
    "seniors_count = 0\n",
    "\n",
    "# Count children, adults, and seniors\n",
    "for age in ages:\n",
    "    if age <= 10:\n",
    "        child_count += 1\n",
    "    elif age <= 60:  # Adults are between 11 and 60 years old\n",
    "        adult_count += 1\n",
    "    else:  # Seniors are older than 60\n",
    "        seniors_count += 1\n",
    "\n",
    "# Print the results\n",
    "print(\"The number of children:\", child_count)\n",
    "print(\"The number of adults:\", adult_count)\n",
    "print(\"The number of seniors:\", seniors_count)"
   ]
  },
  {
   "cell_type": "code",
   "execution_count": 39,
   "id": "acd1ecfd-6718-4193-a575-53a8d68ede9d",
   "metadata": {},
   "outputs": [
    {
     "ename": "AttributeError",
     "evalue": "'tuple' object has no attribute 'append'",
     "output_type": "error",
     "traceback": [
      "\u001b[1;31m---------------------------------------------------------------------------\u001b[0m",
      "\u001b[1;31mAttributeError\u001b[0m                            Traceback (most recent call last)",
      "Cell \u001b[1;32mIn[39], line 8\u001b[0m\n\u001b[0;32m      1\u001b[0m original_tuple \u001b[38;5;241m=\u001b[39m (\u001b[38;5;241m10\u001b[39m, \u001b[38;5;241m20\u001b[39m, \u001b[38;5;241m30\u001b[39m, \u001b[38;5;241m40\u001b[39m)\n\u001b[0;32m      3\u001b[0m \u001b[38;5;66;03m# 1️⃣ Converting Tuple into List\u001b[39;00m\n\u001b[0;32m      4\u001b[0m \n\u001b[0;32m      5\u001b[0m \n\u001b[0;32m      6\u001b[0m \n\u001b[0;32m      7\u001b[0m \u001b[38;5;66;03m# 2️⃣ Adding Items to a Tuple (via conversion to list, since tuples are immutable)\u001b[39;00m\n\u001b[1;32m----> 8\u001b[0m original_tuple\u001b[38;5;241m.\u001b[39mappend(\u001b[38;5;241m50\u001b[39m)\n\u001b[0;32m      9\u001b[0m original_tuple\u001b[38;5;241m.\u001b[39mremove(\u001b[38;5;241m50\u001b[39m)\n\u001b[0;32m     10\u001b[0m \u001b[38;5;66;03m# Adding single item # Adding multiple items\u001b[39;00m\n",
      "\u001b[1;31mAttributeError\u001b[0m: 'tuple' object has no attribute 'append'"
     ]
    }
   ],
   "source": [
    "original_tuple = (10, 20, 30, 40)\n",
    "\n",
    "# 1️⃣ Converting Tuple into List\n",
    "\n",
    "\n",
    "\n",
    "# 2️⃣ Adding Items to a Tuple (via conversion to list, since tuples are immutable)\n",
    "original_tuple.append(50)\n",
    "original_tuple.remove(50)\n",
    "# Adding single item # Adding multiple items\n",
    "modified_tuple = tuple(tuple_to_list)\n",
    "print(\"Tuple after adding items:\", modified_tuple)"
   ]
  },
  {
   "cell_type": "code",
   "execution_count": 47,
   "id": "09cfdf80-07b2-4e67-977e-140ce52326f0",
   "metadata": {},
   "outputs": [
    {
     "name": "stdout",
     "output_type": "stream",
     "text": [
      "The append and extend: [10, 30, 45, 200, 29, 34, 3, 4]\n"
     ]
    }
   ],
   "source": [
    "original_tuple = (10, 2, 30, 45)\n",
    "  # Convert tuple to list\n",
    "\n",
    "original_tuple.remove(2)                # Remove the element 2\n",
    "original_tuple.append(200)              # Append 200 to the list\n",
    "original_tuple.extend([29, 34, 3, 4])   # Extend the list with multiple values\n",
    "\n",
    "print(\"The append and extend:\",original_tuple)\n"
   ]
  },
  {
   "cell_type": "code",
   "execution_count": 51,
   "id": "65f0e164-267f-48b6-95a5-f7ffcb2dd36b",
   "metadata": {},
   "outputs": [
    {
     "name": "stdout",
     "output_type": "stream",
     "text": [
      "The append and extend: [10, 30, 45, 200, 29, 34, 3, 4]\n"
     ]
    }
   ],
   "source": [
    "original_tuple=(10,2,30,45)\n",
    "a_z=list(original_tuple)\n",
    "a_z.remove(2)\n",
    "a_z.append(200)\n",
    "a_z.extend([29,34,3,4])\n",
    "print(\"The append and extend:\",a_z)\n",
    "                     "
   ]
  },
  {
   "cell_type": "code",
   "execution_count": 25,
   "id": "16751c75-6a15-4eed-99df-81e494c9f7fd",
   "metadata": {},
   "outputs": [
    {
     "ename": "NameError",
     "evalue": "name 'a_z' is not defined",
     "output_type": "error",
     "traceback": [
      "\u001b[1;31m---------------------------------------------------------------------------\u001b[0m",
      "\u001b[1;31mNameError\u001b[0m                                 Traceback (most recent call last)",
      "Cell \u001b[1;32mIn[25], line 2\u001b[0m\n\u001b[0;32m      1\u001b[0m a_z: [\u001b[38;5;241m10\u001b[39m, \u001b[38;5;241m2\u001b[39m, \u001b[38;5;241m30\u001b[39m, \u001b[38;5;241m45\u001b[39m, \u001b[38;5;241m200\u001b[39m, \u001b[38;5;241m29\u001b[39m, \u001b[38;5;241m34\u001b[39m, \u001b[38;5;241m3\u001b[39m, \u001b[38;5;241m4\u001b[39m]\n\u001b[1;32m----> 2\u001b[0m list_tuple\u001b[38;5;241m=\u001b[39m\u001b[38;5;28mtuple\u001b[39m(a_z)\n\u001b[0;32m      3\u001b[0m \u001b[38;5;28mprint\u001b[39m(\u001b[38;5;124m\"\u001b[39m\u001b[38;5;124mthe list into tuple converter:\u001b[39m\u001b[38;5;124m\"\u001b[39m,list_tuple)\n",
      "\u001b[1;31mNameError\u001b[0m: name 'a_z' is not defined"
     ]
    }
   ],
   "source": [
    "a_z: [10, 2, 30, 45, 200, 29, 34, 3, 4]\n",
    "list_tuple=tuple(a_z)\n",
    "print(\"the list into tuple converter:\",list_tuple)"
   ]
  },
  {
   "cell_type": "code",
   "execution_count": 31,
   "id": "8bdf5bee-c0c3-459d-8e2a-5a32253319e5",
   "metadata": {},
   "outputs": [
    {
     "name": "stdout",
     "output_type": "stream",
     "text": [
      "the list into tuple converter: [10, 2, 30, 45, 200, 29, 34, 3, 4]\n"
     ]
    }
   ],
   "source": [
    "a_z: [10, 2, 30, 45, 200, 29, 34, 3, 4]\n",
    "list_tuple = tuple(a_z)\n",
    "print(\"the list into tuple converter:\", a_z)"
   ]
  },
  {
   "cell_type": "code",
   "execution_count": 29,
   "id": "441fdc42-4373-45cb-867d-b8fe1769f22e",
   "metadata": {},
   "outputs": [
    {
     "name": "stdout",
     "output_type": "stream",
     "text": [
      "The list converted into a tuple: (10, 2, 30, 45, 200, 29, 34, 3, 4)\n"
     ]
    }
   ],
   "source": [
    "a_z = [10, 2, 30, 45, 200, 29, 34, 3, 4]\n",
    "list_tuple = tuple(a_z)\n",
    "print(\"The list converted into a tuple:\", list_tuple)"
   ]
  },
  {
   "cell_type": "code",
   "execution_count": 63,
   "id": "e1a84fb1-a09d-44d4-8cab-d56ad90133d4",
   "metadata": {},
   "outputs": [
    {
     "name": "stdout",
     "output_type": "stream",
     "text": [
      "Set after discarding 10 (if present): {1, 2, 4, 5, 7, 8, 9}\n",
      "Set after adding 6: {1, 2, 4, 5, 7, 8, 9}\n"
     ]
    }
   ],
   "source": [
    "sample_set={1, 2, 3, 4, 5}\n",
    "sample_set.update([7, 8, 9])# Adding a single element\n",
    "sample_set.remove(3) \n",
    "sample_set.discard(10)  # Safe removal (no error if element not found)\n",
    "print(\"Set after discarding 10 (if present):\", sample_set)\n",
    "print(\"Set after adding 6:\", sample_set)"
   ]
  },
  {
   "cell_type": "code",
   "execution_count": null,
   "id": "908bb258-b1f1-42fc-9971-0393c38ba1fe",
   "metadata": {},
   "outputs": [],
   "source": []
  }
 ],
 "metadata": {
  "kernelspec": {
   "display_name": "Python [conda env:base] *",
   "language": "python",
   "name": "conda-base-py"
  },
  "language_info": {
   "codemirror_mode": {
    "name": "ipython",
    "version": 3
   },
   "file_extension": ".py",
   "mimetype": "text/x-python",
   "name": "python",
   "nbconvert_exporter": "python",
   "pygments_lexer": "ipython3",
   "version": "3.12.7"
  }
 },
 "nbformat": 4,
 "nbformat_minor": 5
}
